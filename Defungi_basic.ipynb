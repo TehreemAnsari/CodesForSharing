{
 "cells": [
  {
   "cell_type": "code",
   "execution_count": 6,
   "id": "271f20a6-3652-46f8-b24f-e4866d64163a",
   "metadata": {},
   "outputs": [],
   "source": [
    "import os\n",
    "import shutil\n",
    "import random\n",
    "from pathlib import Path\n",
    "from PIL import Image\n",
    "import matplotlib.pyplot as plt\n",
    "import splitfolders\n",
    "from sklearn.utils.class_weight import compute_class_weight\n",
    "import numpy as np\n",
    "import tensorflow as tf"
   ]
  },
  {
   "cell_type": "code",
   "execution_count": 7,
   "id": "99e83ab8-71a1-4d40-a355-e71d3aab8e2f",
   "metadata": {},
   "outputs": [],
   "source": [
    "# Base data directory\n",
    "base_dir = Path('/Users/tehreem/Desktop/Study/Projects/defungi')\n",
    "source_dir = base_dir / 'data'"
   ]
  },
  {
   "cell_type": "code",
   "execution_count": 8,
   "id": "10482e67-2e44-4958-93d4-2149905c7769",
   "metadata": {},
   "outputs": [
    {
     "name": "stdout",
     "output_type": "stream",
     "text": [
      "{'H1': 0.4138518308260006, 'H2': 0.7809319764327799, 'H3': 2.2259541984732825, 'H5': 2.229357798165138, 'H6': 2.467005076142132}\n"
     ]
    }
   ],
   "source": [
    "# Calculating class weights before augmentation\n",
    "# y_train is the list/array of original training labels (before augmentation)\n",
    "train_dir = Path(base_dir/'output/train')  # path to your training data folder\n",
    "\n",
    "# Step 1: Collect labels\n",
    "y_train = []\n",
    "for class_dir in train_dir.iterdir():\n",
    "    if class_dir.is_dir():\n",
    "        label = class_dir.name\n",
    "        for img_file in class_dir.iterdir():\n",
    "            if img_file.is_file() and img_file.suffix.lower() in ['.jpg', '.jpeg', '.png']:\n",
    "                y_train.append(label)\n",
    "\n",
    "# Step 2: Calculate class weights\n",
    "classes = np.unique(y_train)\n",
    "class_weights = compute_class_weight('balanced', classes=classes, y=y_train)\n",
    "class_weight_dict = dict(zip(classes, class_weights))\n",
    "\n",
    "print(class_weight_dict)"
   ]
  },
  {
   "cell_type": "code",
   "execution_count": 9,
   "id": "8cc046a1-136c-4377-84ce-15ed2fa10e9a",
   "metadata": {},
   "outputs": [
    {
     "name": "stdout",
     "output_type": "stream",
     "text": [
      "Found 7290 files belonging to 5 classes.\n",
      "Found 908 files belonging to 5 classes.\n",
      "Found 916 files belonging to 5 classes.\n"
     ]
    }
   ],
   "source": [
    "IMG_SIZE = 224\n",
    "BATCH_SIZE = 32\n",
    "\n",
    "train_dir = Path(base_dir/'output/train')\n",
    "val_dir = Path(base_dir/'output/val')\n",
    "test_dir = Path(base_dir/'output/test')\n",
    "\n",
    "train_ds = tf.keras.utils.image_dataset_from_directory(\n",
    "    train_dir,\n",
    "    image_size=(IMG_SIZE, IMG_SIZE),\n",
    "    batch_size=BATCH_SIZE,\n",
    "    label_mode=\"categorical\"\n",
    ")\n",
    "\n",
    "val_ds = tf.keras.utils.image_dataset_from_directory(\n",
    "    val_dir,\n",
    "    image_size=(IMG_SIZE, IMG_SIZE),\n",
    "    batch_size=BATCH_SIZE,\n",
    "    label_mode=\"categorical\"\n",
    ")\n",
    "test_ds = tf.keras.utils.image_dataset_from_directory(\n",
    "    test_dir,\n",
    "    image_size=(IMG_SIZE, IMG_SIZE),\n",
    "    batch_size=BATCH_SIZE,\n",
    "    label_mode=\"categorical\"\n",
    ")\n",
    "\n",
    "class_names = train_ds.class_names"
   ]
  },
  {
   "cell_type": "code",
   "execution_count": 10,
   "id": "09e26808-09d2-40f3-aaa5-24af99030ce5",
   "metadata": {},
   "outputs": [
    {
     "name": "stdout",
     "output_type": "stream",
     "text": [
      "Found 7290 files belonging to 5 classes.\n",
      "WARNING:tensorflow:From /var/folders/rw/w5y8pq2d163_75w15fvmhv1h0000gn/T/ipykernel_3591/575243750.py:82: sample_from_datasets_v2 (from tensorflow.python.data.experimental.ops.interleave_ops) is deprecated and will be removed in a future version.\n",
      "Instructions for updating:\n",
      "Use `tf.data.Dataset.sample_from_datasets(...)`.\n"
     ]
    }
   ],
   "source": [
    "IMG_HEIGHT, IMG_WIDTH, NUM_CHANNELS = 224, 224, 3\n",
    "BATCH_SIZE = 32\n",
    "\n",
    "# 1. Light augmentation pipeline for majority classes (without rescaling here)\n",
    "light_aug = tf.keras.Sequential([\n",
    "    tf.keras.layers.RandomFlip(\"horizontal\"),\n",
    "    # no Rescaling here; will do once after augmentation\n",
    "])\n",
    "\n",
    "# 2. Aggressive augmentation pipeline for minority classes\n",
    "# If TF < 2.6, split horizontal_and_vertical into two layers\n",
    "aggressive_aug = tf.keras.Sequential([\n",
    "    tf.keras.layers.RandomFlip(\"horizontal\"),\n",
    "    tf.keras.layers.RandomFlip(\"vertical\"),\n",
    "    tf.keras.layers.RandomRotation(0.3),\n",
    "    tf.keras.layers.RandomZoom(0.4),\n",
    "    tf.keras.layers.RandomContrast(0.2),\n",
    "    # no Rescaling here; will do once after augmentation\n",
    "])\n",
    "\n",
    "minority_classes = ['H3', 'H5', 'H6']\n",
    "minority_indices = [class_names.index(cls) for cls in minority_classes]\n",
    "minority_indices_tensor = tf.constant(minority_indices, dtype=tf.int64)\n",
    "\n",
    "def class_specific_aug(image, label):\n",
    "    class_idx = tf.argmax(label)\n",
    "    is_minority = tf.reduce_any(tf.equal(class_idx, minority_indices_tensor))\n",
    "\n",
    "    def aggressive():\n",
    "        img = aggressive_aug(image)\n",
    "        img.set_shape([IMG_HEIGHT, IMG_WIDTH, NUM_CHANNELS])\n",
    "        return img, label\n",
    "\n",
    "    def light():\n",
    "        img = light_aug(image)\n",
    "        img.set_shape([IMG_HEIGHT, IMG_WIDTH, NUM_CHANNELS])\n",
    "        return img, label\n",
    "\n",
    "    return tf.cond(is_minority, aggressive, light)\n",
    "\n",
    "# Load datasets (from your original code)\n",
    "train_ds = tf.keras.utils.image_dataset_from_directory(\n",
    "    train_dir,\n",
    "    image_size=(IMG_HEIGHT, IMG_WIDTH),\n",
    "    batch_size=BATCH_SIZE,\n",
    "    label_mode=\"categorical\"\n",
    ")\n",
    "\n",
    "# Apply augmentation by unbatching, augmenting, rescaling once, batching, and prefetching\n",
    "aug_train_ds = (\n",
    "    train_ds\n",
    "    .unbatch()\n",
    "    .map(class_specific_aug, num_parallel_calls=tf.data.AUTOTUNE)\n",
    "    # Rescale after augmentation, to avoid double scaling\n",
    "    .map(lambda x, y: (tf.image.convert_image_dtype(x, tf.float32), y), num_parallel_calls=tf.data.AUTOTUNE)\n",
    "    .shuffle(1000)  # Shuffle after augmentation\n",
    "    .batch(BATCH_SIZE)\n",
    "    .prefetch(tf.data.AUTOTUNE)\n",
    ")\n",
    "\n",
    "# Define repeat factors for classes\n",
    "repeat_factors = {\n",
    "    'H1': 1,\n",
    "    'H2': 2,\n",
    "    'H3': 5,\n",
    "    'H5': 5,\n",
    "    'H6': 6\n",
    "}\n",
    "\n",
    "datasets = []\n",
    "for i, class_name in enumerate(class_names):\n",
    "    class_ds = (\n",
    "        aug_train_ds\n",
    "        .unbatch()\n",
    "        .filter(lambda x, y: tf.equal(tf.argmax(y), i))\n",
    "        .shuffle(1000)  # Shuffle per-class dataset\n",
    "        .batch(BATCH_SIZE)\n",
    "        .repeat(repeat_factors[class_name])\n",
    "    )\n",
    "    datasets.append(class_ds)\n",
    "\n",
    "balanced_train_ds = tf.data.experimental.sample_from_datasets(datasets)\n",
    "balanced_train_ds = balanced_train_ds.prefetch(tf.data.AUTOTUNE)\n",
    "\n",
    "# Optional: enable eager mode globally during debugging to avoid crashes\n",
    "# tf.config.run_functions_eagerly(True)\n"
   ]
  },
  {
   "cell_type": "code",
   "execution_count": 11,
   "id": "bef928c3-c08f-420a-89a9-d295d36e4da9",
   "metadata": {},
   "outputs": [
    {
     "name": "stderr",
     "output_type": "stream",
     "text": [
      "2025-06-09 13:03:01.281171: I tensorflow/core/grappler/optimizers/custom_graph_optimizer_registry.cc:117] Plugin optimizer for device_type GPU is enabled.\n"
     ]
    },
    {
     "name": "stdout",
     "output_type": "stream",
     "text": [
      "Images type: <class 'tensorflow.python.framework.ops.EagerTensor'>\n",
      "Images shape: (32, 224, 224, 3)\n",
      "Labels type: <class 'tensorflow.python.framework.ops.EagerTensor'>\n",
      "Labels shape: (32, 5)\n",
      "Labels sample (numpy): [[0. 0. 0. 1. 0.]\n",
      " [0. 0. 0. 1. 0.]\n",
      " [0. 0. 0. 1. 0.]\n",
      " [0. 0. 0. 1. 0.]\n",
      " [0. 0. 0. 1. 0.]]\n"
     ]
    },
    {
     "name": "stderr",
     "output_type": "stream",
     "text": [
      "2025-06-09 13:03:05.900522: W tensorflow/core/framework/local_rendezvous.cc:404] Local rendezvous is aborting with status: OUT_OF_RANGE: End of sequence\n"
     ]
    }
   ],
   "source": [
    "for batch in balanced_train_ds.take(1):\n",
    "    # Usually, batch is a tuple: (images, labels)\n",
    "    images, labels = batch\n",
    "    \n",
    "    print(f\"Images type: {type(images)}\")\n",
    "    print(f\"Images shape: {images.shape}\")\n",
    "    \n",
    "    print(f\"Labels type: {type(labels)}\")\n",
    "    print(f\"Labels shape: {labels.shape}\")\n",
    "    \n",
    "    # For labels, to see values:\n",
    "    print(\"Labels sample (numpy):\", labels.numpy()[:5])\n"
   ]
  },
  {
   "cell_type": "code",
   "execution_count": 12,
   "id": "ab3a1cea-e7c2-44c3-b81d-bdd6d4157f8a",
   "metadata": {},
   "outputs": [
    {
     "name": "stdout",
     "output_type": "stream",
     "text": [
      "Data types: <class 'tuple'>  | Length: 2\n",
      "Data types inside batch: [<class 'tensorflow.python.framework.ops.EagerTensor'>, <class 'tensorflow.python.framework.ops.EagerTensor'>]\n"
     ]
    },
    {
     "name": "stderr",
     "output_type": "stream",
     "text": [
      "2025-06-09 13:04:39.991835: W tensorflow/core/framework/local_rendezvous.cc:404] Local rendezvous is aborting with status: OUT_OF_RANGE: End of sequence\n"
     ]
    },
    {
     "name": "stdout",
     "output_type": "stream",
     "text": [
      "Label dtype: <dtype: 'float32'>\n",
      "Label sample: tf.Tensor(\n",
      "[[1. 0. 0. 0. 0.]\n",
      " [1. 0. 0. 0. 0.]\n",
      " [1. 0. 0. 0. 0.]\n",
      " [1. 0. 0. 0. 0.]\n",
      " [1. 0. 0. 0. 0.]], shape=(5, 5), dtype=float32)\n"
     ]
    },
    {
     "name": "stderr",
     "output_type": "stream",
     "text": [
      "2025-06-09 13:04:42.123266: W tensorflow/core/framework/local_rendezvous.cc:404] Local rendezvous is aborting with status: CANCELLED: RecvAsync is cancelled.\n",
      "\t [[{{function_node cond_true_279}}{{node cond/sequential_5_1/random_flip_7_1/Add}}]] [type.googleapis.com/tensorflow.DerivedStatus='']\n",
      "2025-06-09 13:04:42.123283: W tensorflow/core/framework/local_rendezvous.cc:404] Local rendezvous is aborting with status: CANCELLED: RecvAsync is cancelled.\n",
      "\t [[{{function_node cond_true_279}}{{node cond/sequential_5_1/random_flip_7_1/Add}}]]\n",
      "\t [[cond/then/_0/cond/sequential_5_1/random_contrast_2_1/Add/ReadVariableOp/_32]] [type.googleapis.com/tensorflow.DerivedStatus='']\n",
      "2025-06-09 13:04:42.123290: I tensorflow/core/framework/local_rendezvous.cc:422] Local rendezvous recv item cancelled. Key hash: 11020564164073132315\n",
      "2025-06-09 13:04:42.123293: I tensorflow/core/framework/local_rendezvous.cc:422] Local rendezvous recv item cancelled. Key hash: 10224367694141399667\n",
      "2025-06-09 13:04:42.123295: I tensorflow/core/framework/local_rendezvous.cc:422] Local rendezvous recv item cancelled. Key hash: 1944421987643040771\n",
      "2025-06-09 13:04:42.123298: I tensorflow/core/framework/local_rendezvous.cc:422] Local rendezvous recv item cancelled. Key hash: 6961277223893079969\n",
      "2025-06-09 13:04:42.123300: I tensorflow/core/framework/local_rendezvous.cc:422] Local rendezvous recv item cancelled. Key hash: 17714458963066996909\n",
      "2025-06-09 13:04:42.123304: I tensorflow/core/framework/local_rendezvous.cc:422] Local rendezvous recv item cancelled. Key hash: 4313994557858908445\n",
      "2025-06-09 13:04:42.123306: I tensorflow/core/framework/local_rendezvous.cc:422] Local rendezvous recv item cancelled. Key hash: 18205890177292323751\n",
      "2025-06-09 13:04:42.123309: I tensorflow/core/framework/local_rendezvous.cc:422] Local rendezvous recv item cancelled. Key hash: 8365327253819551133\n",
      "2025-06-09 13:04:42.123311: I tensorflow/core/framework/local_rendezvous.cc:422] Local rendezvous recv item cancelled. Key hash: 6948068289862458717\n",
      "2025-06-09 13:04:42.123314: I tensorflow/core/framework/local_rendezvous.cc:422] Local rendezvous recv item cancelled. Key hash: 1235097400420843652\n",
      "2025-06-09 13:04:42.123316: I tensorflow/core/framework/local_rendezvous.cc:422] Local rendezvous recv item cancelled. Key hash: 1395017209629196588\n",
      "2025-06-09 13:04:42.123318: I tensorflow/core/framework/local_rendezvous.cc:422] Local rendezvous recv item cancelled. Key hash: 17090160954685384598\n",
      "2025-06-09 13:04:42.123321: I tensorflow/core/framework/local_rendezvous.cc:422] Local rendezvous recv item cancelled. Key hash: 4384123920954469028\n",
      "2025-06-09 13:04:42.123323: I tensorflow/core/framework/local_rendezvous.cc:422] Local rendezvous recv item cancelled. Key hash: 9088888985000946472\n",
      "2025-06-09 13:04:42.123325: I tensorflow/core/framework/local_rendezvous.cc:422] Local rendezvous recv item cancelled. Key hash: 17622024213628996616\n",
      "2025-06-09 13:04:42.123327: I tensorflow/core/framework/local_rendezvous.cc:422] Local rendezvous recv item cancelled. Key hash: 221336101028506780\n",
      "2025-06-09 13:04:42.123329: I tensorflow/core/framework/local_rendezvous.cc:422] Local rendezvous recv item cancelled. Key hash: 189364043324911740\n",
      "2025-06-09 13:04:42.123331: I tensorflow/core/framework/local_rendezvous.cc:422] Local rendezvous recv item cancelled. Key hash: 12808669344951810636\n",
      "2025-06-09 13:04:42.123335: I tensorflow/core/framework/local_rendezvous.cc:422] Local rendezvous recv item cancelled. Key hash: 10908477027522829482\n",
      "2025-06-09 13:04:42.123341: W tensorflow/core/framework/local_rendezvous.cc:404] Local rendezvous is aborting with status: CANCELLED: RecvAsync is cancelled.\n",
      "\t [[{{function_node cond_true_279}}{{node cond/sequential_5_1/random_flip_7_1/Add/ReadVariableOp}}]] [type.googleapis.com/tensorflow.DerivedStatus='']\n",
      "2025-06-09 13:04:42.123343: W tensorflow/core/framework/local_rendezvous.cc:404] Local rendezvous is aborting with status: CANCELLED: RecvAsync is cancelled.\n",
      "\t [[{{function_node cond_true_279}}{{node cond/sequential_5_1/random_flip_7_1/Add/ReadVariableOp}}]]\n",
      "\t [[cond/then/_0/cond/sequential_5_1/random_contrast_2_1/Add/_46]] [type.googleapis.com/tensorflow.DerivedStatus='']\n",
      "2025-06-09 13:04:42.123346: I tensorflow/core/framework/local_rendezvous.cc:422] Local rendezvous recv item cancelled. Key hash: 11020564164073132315\n",
      "2025-06-09 13:04:42.123348: I tensorflow/core/framework/local_rendezvous.cc:422] Local rendezvous recv item cancelled. Key hash: 10224367694141399667\n",
      "2025-06-09 13:04:42.123352: I tensorflow/core/framework/local_rendezvous.cc:422] Local rendezvous recv item cancelled. Key hash: 6961277223893079969\n",
      "2025-06-09 13:04:42.123354: I tensorflow/core/framework/local_rendezvous.cc:422] Local rendezvous recv item cancelled. Key hash: 17714458963066996909\n",
      "2025-06-09 13:04:42.123356: I tensorflow/core/framework/local_rendezvous.cc:422] Local rendezvous recv item cancelled. Key hash: 4313994557858908445\n",
      "2025-06-09 13:04:42.123358: I tensorflow/core/framework/local_rendezvous.cc:422] Local rendezvous recv item cancelled. Key hash: 18205890177292323751\n",
      "2025-06-09 13:04:42.123360: I tensorflow/core/framework/local_rendezvous.cc:422] Local rendezvous recv item cancelled. Key hash: 4784485620175309907\n",
      "2025-06-09 13:04:42.123362: I tensorflow/core/framework/local_rendezvous.cc:422] Local rendezvous recv item cancelled. Key hash: 6948068289862458717\n",
      "2025-06-09 13:04:42.123364: I tensorflow/core/framework/local_rendezvous.cc:422] Local rendezvous recv item cancelled. Key hash: 189364043324911740\n",
      "2025-06-09 13:04:42.123366: I tensorflow/core/framework/local_rendezvous.cc:422] Local rendezvous recv item cancelled. Key hash: 1395017209629196588\n",
      "2025-06-09 13:04:42.123368: I tensorflow/core/framework/local_rendezvous.cc:422] Local rendezvous recv item cancelled. Key hash: 1235097400420843652\n",
      "2025-06-09 13:04:42.123370: I tensorflow/core/framework/local_rendezvous.cc:422] Local rendezvous recv item cancelled. Key hash: 17090160954685384598\n",
      "2025-06-09 13:04:42.123372: I tensorflow/core/framework/local_rendezvous.cc:422] Local rendezvous recv item cancelled. Key hash: 4384123920954469028\n",
      "2025-06-09 13:04:42.123374: I tensorflow/core/framework/local_rendezvous.cc:422] Local rendezvous recv item cancelled. Key hash: 12808669344951810636\n",
      "2025-06-09 13:04:42.123376: I tensorflow/core/framework/local_rendezvous.cc:422] Local rendezvous recv item cancelled. Key hash: 10908477027522829482\n",
      "2025-06-09 13:04:42.123378: I tensorflow/core/framework/local_rendezvous.cc:422] Local rendezvous recv item cancelled. Key hash: 9088888985000946472\n",
      "2025-06-09 13:04:42.123381: I tensorflow/core/framework/local_rendezvous.cc:422] Local rendezvous recv item cancelled. Key hash: 221336101028506780\n",
      "2025-06-09 13:04:42.123386: W tensorflow/core/framework/local_rendezvous.cc:404] Local rendezvous is aborting with status: CANCELLED: RecvAsync is cancelled.\n",
      "\t [[{{function_node cond_true_279}}{{node cond/sequential_5_1/random_flip_7_1/Add}}]] [type.googleapis.com/tensorflow.DerivedStatus='']\n",
      "2025-06-09 13:04:42.123388: I tensorflow/core/framework/local_rendezvous.cc:422] Local rendezvous recv item cancelled. Key hash: 189364043324911740\n",
      "2025-06-09 13:04:42.123390: I tensorflow/core/framework/local_rendezvous.cc:422] Local rendezvous recv item cancelled. Key hash: 1395017209629196588\n",
      "2025-06-09 13:04:42.123392: W tensorflow/core/framework/local_rendezvous.cc:404] Local rendezvous is aborting with status: CANCELLED: RecvAsync is cancelled.\n",
      "\t [[{{function_node cond_true_279}}{{node cond/sequential_5_1/random_flip_7_1/Add}}]]\n",
      "\t [[cond/then/_0/cond/sequential_5_1/random_contrast_2_1/Add/ReadVariableOp/_32]] [type.googleapis.com/tensorflow.DerivedStatus='']\n",
      "2025-06-09 13:04:42.123394: I tensorflow/core/framework/local_rendezvous.cc:422] Local rendezvous recv item cancelled. Key hash: 11020564164073132315\n",
      "2025-06-09 13:04:42.123397: I tensorflow/core/framework/local_rendezvous.cc:422] Local rendezvous recv item cancelled. Key hash: 10224367694141399667\n",
      "2025-06-09 13:04:42.123399: I tensorflow/core/framework/local_rendezvous.cc:422] Local rendezvous recv item cancelled. Key hash: 1944421987643040771\n",
      "2025-06-09 13:04:42.123401: I tensorflow/core/framework/local_rendezvous.cc:422] Local rendezvous recv item cancelled. Key hash: 6961277223893079969\n",
      "2025-06-09 13:04:42.123403: I tensorflow/core/framework/local_rendezvous.cc:422] Local rendezvous recv item cancelled. Key hash: 17714458963066996909\n",
      "2025-06-09 13:04:42.123405: I tensorflow/core/framework/local_rendezvous.cc:422] Local rendezvous recv item cancelled. Key hash: 4313994557858908445\n",
      "2025-06-09 13:04:42.123453: I tensorflow/core/framework/local_rendezvous.cc:422] Local rendezvous recv item cancelled. Key hash: 18205890177292323751\n",
      "2025-06-09 13:04:42.123455: I tensorflow/core/framework/local_rendezvous.cc:422] Local rendezvous recv item cancelled. Key hash: 8365327253819551133\n",
      "2025-06-09 13:04:42.123458: I tensorflow/core/framework/local_rendezvous.cc:422] Local rendezvous recv item cancelled. Key hash: 6948068289862458717\n",
      "2025-06-09 13:04:42.123460: I tensorflow/core/framework/local_rendezvous.cc:422] Local rendezvous recv item cancelled. Key hash: 1235097400420843652\n",
      "2025-06-09 13:04:42.123461: I tensorflow/core/framework/local_rendezvous.cc:422] Local rendezvous recv item cancelled. Key hash: 17090160954685384598\n",
      "2025-06-09 13:04:42.123463: I tensorflow/core/framework/local_rendezvous.cc:422] Local rendezvous recv item cancelled. Key hash: 4384123920954469028\n",
      "2025-06-09 13:04:42.123465: I tensorflow/core/framework/local_rendezvous.cc:422] Local rendezvous recv item cancelled. Key hash: 12808669344951810636\n",
      "2025-06-09 13:04:42.123467: I tensorflow/core/framework/local_rendezvous.cc:422] Local rendezvous recv item cancelled. Key hash: 10908477027522829482\n",
      "2025-06-09 13:04:42.123468: I tensorflow/core/framework/local_rendezvous.cc:422] Local rendezvous recv item cancelled. Key hash: 9088888985000946472\n",
      "2025-06-09 13:04:42.123470: I tensorflow/core/framework/local_rendezvous.cc:422] Local rendezvous recv item cancelled. Key hash: 221336101028506780\n",
      "2025-06-09 13:04:42.123475: W tensorflow/core/framework/local_rendezvous.cc:404] Local rendezvous is aborting with status: CANCELLED: RecvAsync is cancelled.\n",
      "\t [[{{function_node cond_true_279}}{{node cond/sequential_5_1/random_flip_7_1/Add}}]] [type.googleapis.com/tensorflow.DerivedStatus='']\n",
      "2025-06-09 13:04:42.123477: W tensorflow/core/framework/local_rendezvous.cc:404] Local rendezvous is aborting with status: CANCELLED: RecvAsync is cancelled.\n",
      "\t [[{{function_node cond_true_279}}{{node cond/sequential_5_1/random_flip_7_1/Add}}]]\n",
      "\t [[cond/then/_0/cond/sequential_5_1/random_contrast_2_1/Add/ReadVariableOp/_32]] [type.googleapis.com/tensorflow.DerivedStatus='']\n",
      "2025-06-09 13:04:42.123479: I tensorflow/core/framework/local_rendezvous.cc:422] Local rendezvous recv item cancelled. Key hash: 11020564164073132315\n",
      "2025-06-09 13:04:42.123481: I tensorflow/core/framework/local_rendezvous.cc:422] Local rendezvous recv item cancelled. Key hash: 10224367694141399667\n",
      "2025-06-09 13:04:42.123484: I tensorflow/core/framework/local_rendezvous.cc:422] Local rendezvous recv item cancelled. Key hash: 1944421987643040771\n",
      "2025-06-09 13:04:42.123485: I tensorflow/core/framework/local_rendezvous.cc:422] Local rendezvous recv item cancelled. Key hash: 6961277223893079969\n",
      "2025-06-09 13:04:42.123487: I tensorflow/core/framework/local_rendezvous.cc:422] Local rendezvous recv item cancelled. Key hash: 17714458963066996909\n",
      "2025-06-09 13:04:42.123489: I tensorflow/core/framework/local_rendezvous.cc:422] Local rendezvous recv item cancelled. Key hash: 4313994557858908445\n",
      "2025-06-09 13:04:42.123490: I tensorflow/core/framework/local_rendezvous.cc:422] Local rendezvous recv item cancelled. Key hash: 18205890177292323751\n",
      "2025-06-09 13:04:42.123493: I tensorflow/core/framework/local_rendezvous.cc:422] Local rendezvous recv item cancelled. Key hash: 8365327253819551133\n",
      "2025-06-09 13:04:42.123495: I tensorflow/core/framework/local_rendezvous.cc:422] Local rendezvous recv item cancelled. Key hash: 6948068289862458717\n",
      "2025-06-09 13:04:42.123497: I tensorflow/core/framework/local_rendezvous.cc:422] Local rendezvous recv item cancelled. Key hash: 1235097400420843652\n",
      "2025-06-09 13:04:42.123499: I tensorflow/core/framework/local_rendezvous.cc:422] Local rendezvous recv item cancelled. Key hash: 1395017209629196588\n",
      "2025-06-09 13:04:42.123501: I tensorflow/core/framework/local_rendezvous.cc:422] Local rendezvous recv item cancelled. Key hash: 17090160954685384598\n",
      "2025-06-09 13:04:42.123503: I tensorflow/core/framework/local_rendezvous.cc:422] Local rendezvous recv item cancelled. Key hash: 4384123920954469028\n",
      "2025-06-09 13:04:42.123505: I tensorflow/core/framework/local_rendezvous.cc:422] Local rendezvous recv item cancelled. Key hash: 9088888985000946472\n",
      "2025-06-09 13:04:42.123507: I tensorflow/core/framework/local_rendezvous.cc:422] Local rendezvous recv item cancelled. Key hash: 17622024213628996616\n",
      "2025-06-09 13:04:42.123509: I tensorflow/core/framework/local_rendezvous.cc:422] Local rendezvous recv item cancelled. Key hash: 221336101028506780\n",
      "2025-06-09 13:04:42.123511: I tensorflow/core/framework/local_rendezvous.cc:422] Local rendezvous recv item cancelled. Key hash: 189364043324911740\n",
      "2025-06-09 13:04:42.123514: I tensorflow/core/framework/local_rendezvous.cc:422] Local rendezvous recv item cancelled. Key hash: 12808669344951810636\n",
      "2025-06-09 13:04:42.123519: I tensorflow/core/framework/local_rendezvous.cc:422] Local rendezvous recv item cancelled. Key hash: 10908477027522829482\n",
      "2025-06-09 13:04:42.123526: W tensorflow/core/framework/local_rendezvous.cc:404] Local rendezvous is aborting with status: CANCELLED: RecvAsync is cancelled.\n",
      "\t [[{{function_node cond_true_279}}{{node cond/sequential_5_1/random_flip_7_1/Add}}]] [type.googleapis.com/tensorflow.DerivedStatus='']\n",
      "2025-06-09 13:04:42.123529: I tensorflow/core/framework/local_rendezvous.cc:422] Local rendezvous recv item cancelled. Key hash: 189364043324911740\n",
      "2025-06-09 13:04:42.123531: I tensorflow/core/framework/local_rendezvous.cc:422] Local rendezvous recv item cancelled. Key hash: 1395017209629196588\n",
      "2025-06-09 13:04:42.123533: W tensorflow/core/framework/local_rendezvous.cc:404] Local rendezvous is aborting with status: CANCELLED: RecvAsync is cancelled.\n",
      "\t [[{{function_node cond_true_279}}{{node cond/sequential_5_1/random_flip_7_1/Add}}]]\n",
      "\t [[cond/then/_0/cond/sequential_5_1/random_contrast_2_1/Add/ReadVariableOp/_32]] [type.googleapis.com/tensorflow.DerivedStatus='']\n",
      "2025-06-09 13:04:42.123535: I tensorflow/core/framework/local_rendezvous.cc:422] Local rendezvous recv item cancelled. Key hash: 11020564164073132315\n",
      "2025-06-09 13:04:42.123537: I tensorflow/core/framework/local_rendezvous.cc:422] Local rendezvous recv item cancelled. Key hash: 10224367694141399667\n",
      "2025-06-09 13:04:42.123539: I tensorflow/core/framework/local_rendezvous.cc:422] Local rendezvous recv item cancelled. Key hash: 6961277223893079969\n",
      "2025-06-09 13:04:42.123540: I tensorflow/core/framework/local_rendezvous.cc:422] Local rendezvous recv item cancelled. Key hash: 17714458963066996909\n",
      "2025-06-09 13:04:42.123542: I tensorflow/core/framework/local_rendezvous.cc:422] Local rendezvous recv item cancelled. Key hash: 4313994557858908445\n",
      "2025-06-09 13:04:42.123544: I tensorflow/core/framework/local_rendezvous.cc:422] Local rendezvous recv item cancelled. Key hash: 18205890177292323751\n",
      "2025-06-09 13:04:42.123546: I tensorflow/core/framework/local_rendezvous.cc:422] Local rendezvous recv item cancelled. Key hash: 8365327253819551133\n",
      "2025-06-09 13:04:42.123548: I tensorflow/core/framework/local_rendezvous.cc:422] Local rendezvous recv item cancelled. Key hash: 6948068289862458717\n",
      "2025-06-09 13:04:42.123549: I tensorflow/core/framework/local_rendezvous.cc:422] Local rendezvous recv item cancelled. Key hash: 1235097400420843652\n",
      "2025-06-09 13:04:42.123551: I tensorflow/core/framework/local_rendezvous.cc:422] Local rendezvous recv item cancelled. Key hash: 17090160954685384598\n",
      "2025-06-09 13:04:42.123553: I tensorflow/core/framework/local_rendezvous.cc:422] Local rendezvous recv item cancelled. Key hash: 4384123920954469028\n",
      "2025-06-09 13:04:42.123554: I tensorflow/core/framework/local_rendezvous.cc:422] Local rendezvous recv item cancelled. Key hash: 12808669344951810636\n",
      "2025-06-09 13:04:42.123556: I tensorflow/core/framework/local_rendezvous.cc:422] Local rendezvous recv item cancelled. Key hash: 10908477027522829482\n",
      "2025-06-09 13:04:42.123558: I tensorflow/core/framework/local_rendezvous.cc:422] Local rendezvous recv item cancelled. Key hash: 9088888985000946472\n",
      "2025-06-09 13:04:42.123559: I tensorflow/core/framework/local_rendezvous.cc:422] Local rendezvous recv item cancelled. Key hash: 221336101028506780\n",
      "2025-06-09 13:04:42.123593: W tensorflow/core/framework/local_rendezvous.cc:404] Local rendezvous is aborting with status: CANCELLED: RecvAsync is cancelled.\n",
      "\t [[{{function_node cond_true_279}}{{node cond/sequential_5_1/random_flip_7_1/Add}}]] [type.googleapis.com/tensorflow.DerivedStatus='']\n",
      "2025-06-09 13:04:42.123595: W tensorflow/core/framework/local_rendezvous.cc:404] Local rendezvous is aborting with status: CANCELLED: RecvAsync is cancelled.\n",
      "\t [[{{function_node cond_true_279}}{{node cond/sequential_5_1/random_flip_7_1/Add}}]]\n",
      "\t [[cond/then/_0/cond/sequential_5_1/random_contrast_2_1/Add/ReadVariableOp/_32]] [type.googleapis.com/tensorflow.DerivedStatus='']\n",
      "2025-06-09 13:04:42.123597: I tensorflow/core/framework/local_rendezvous.cc:422] Local rendezvous recv item cancelled. Key hash: 11020564164073132315\n",
      "2025-06-09 13:04:42.123599: I tensorflow/core/framework/local_rendezvous.cc:422] Local rendezvous recv item cancelled. Key hash: 10224367694141399667\n",
      "2025-06-09 13:04:42.123601: I tensorflow/core/framework/local_rendezvous.cc:422] Local rendezvous recv item cancelled. Key hash: 6961277223893079969\n",
      "2025-06-09 13:04:42.123603: I tensorflow/core/framework/local_rendezvous.cc:422] Local rendezvous recv item cancelled. Key hash: 17714458963066996909\n",
      "2025-06-09 13:04:42.123604: I tensorflow/core/framework/local_rendezvous.cc:422] Local rendezvous recv item cancelled. Key hash: 18205890177292323751\n",
      "2025-06-09 13:04:42.123606: I tensorflow/core/framework/local_rendezvous.cc:422] Local rendezvous recv item cancelled. Key hash: 8365327253819551133\n",
      "2025-06-09 13:04:42.123608: I tensorflow/core/framework/local_rendezvous.cc:422] Local rendezvous recv item cancelled. Key hash: 6948068289862458717\n",
      "2025-06-09 13:04:42.123610: I tensorflow/core/framework/local_rendezvous.cc:422] Local rendezvous recv item cancelled. Key hash: 1235097400420843652\n",
      "2025-06-09 13:04:42.123611: I tensorflow/core/framework/local_rendezvous.cc:422] Local rendezvous recv item cancelled. Key hash: 1395017209629196588\n",
      "2025-06-09 13:04:42.123613: I tensorflow/core/framework/local_rendezvous.cc:422] Local rendezvous recv item cancelled. Key hash: 17090160954685384598\n",
      "2025-06-09 13:04:42.123615: I tensorflow/core/framework/local_rendezvous.cc:422] Local rendezvous recv item cancelled. Key hash: 4384123920954469028\n",
      "2025-06-09 13:04:42.123617: I tensorflow/core/framework/local_rendezvous.cc:422] Local rendezvous recv item cancelled. Key hash: 9088888985000946472\n",
      "2025-06-09 13:04:42.123619: I tensorflow/core/framework/local_rendezvous.cc:422] Local rendezvous recv item cancelled. Key hash: 221336101028506780\n",
      "2025-06-09 13:04:42.123621: I tensorflow/core/framework/local_rendezvous.cc:422] Local rendezvous recv item cancelled. Key hash: 189364043324911740\n",
      "2025-06-09 13:04:42.123622: I tensorflow/core/framework/local_rendezvous.cc:422] Local rendezvous recv item cancelled. Key hash: 12808669344951810636\n",
      "2025-06-09 13:04:42.123624: I tensorflow/core/framework/local_rendezvous.cc:422] Local rendezvous recv item cancelled. Key hash: 10908477027522829482\n",
      "2025-06-09 13:04:42.123628: W tensorflow/core/framework/local_rendezvous.cc:404] Local rendezvous is aborting with status: CANCELLED: RecvAsync is cancelled.\n",
      "\t [[{{function_node cond_true_279}}{{node cond/sequential_5_1/random_flip_7_1/Add}}]] [type.googleapis.com/tensorflow.DerivedStatus='']\n",
      "2025-06-09 13:04:42.123630: W tensorflow/core/framework/local_rendezvous.cc:404] Local rendezvous is aborting with status: CANCELLED: RecvAsync is cancelled.\n",
      "\t [[{{function_node cond_true_279}}{{node cond/sequential_5_1/random_flip_7_1/Add}}]]\n",
      "\t [[cond/then/_0/cond/sequential_5_1/random_contrast_2_1/Add/ReadVariableOp/_32]] [type.googleapis.com/tensorflow.DerivedStatus='']\n",
      "2025-06-09 13:04:42.123632: I tensorflow/core/framework/local_rendezvous.cc:422] Local rendezvous recv item cancelled. Key hash: 11020564164073132315\n",
      "2025-06-09 13:04:42.123634: I tensorflow/core/framework/local_rendezvous.cc:422] Local rendezvous recv item cancelled. Key hash: 10224367694141399667\n",
      "2025-06-09 13:04:42.123637: I tensorflow/core/framework/local_rendezvous.cc:422] Local rendezvous recv item cancelled. Key hash: 1944421987643040771\n",
      "2025-06-09 13:04:42.123639: I tensorflow/core/framework/local_rendezvous.cc:422] Local rendezvous recv item cancelled. Key hash: 6961277223893079969\n",
      "2025-06-09 13:04:42.123641: I tensorflow/core/framework/local_rendezvous.cc:422] Local rendezvous recv item cancelled. Key hash: 17714458963066996909\n",
      "2025-06-09 13:04:42.123644: I tensorflow/core/framework/local_rendezvous.cc:422] Local rendezvous recv item cancelled. Key hash: 4313994557858908445\n",
      "2025-06-09 13:04:42.123646: I tensorflow/core/framework/local_rendezvous.cc:422] Local rendezvous recv item cancelled. Key hash: 18205890177292323751\n",
      "2025-06-09 13:04:42.123648: I tensorflow/core/framework/local_rendezvous.cc:422] Local rendezvous recv item cancelled. Key hash: 8365327253819551133\n",
      "2025-06-09 13:04:42.123650: I tensorflow/core/framework/local_rendezvous.cc:422] Local rendezvous recv item cancelled. Key hash: 6948068289862458717\n",
      "2025-06-09 13:04:42.123652: I tensorflow/core/framework/local_rendezvous.cc:422] Local rendezvous recv item cancelled. Key hash: 1235097400420843652\n",
      "2025-06-09 13:04:42.123654: I tensorflow/core/framework/local_rendezvous.cc:422] Local rendezvous recv item cancelled. Key hash: 1395017209629196588\n",
      "2025-06-09 13:04:42.123656: I tensorflow/core/framework/local_rendezvous.cc:422] Local rendezvous recv item cancelled. Key hash: 17090160954685384598\n",
      "2025-06-09 13:04:42.123658: I tensorflow/core/framework/local_rendezvous.cc:422] Local rendezvous recv item cancelled. Key hash: 4384123920954469028\n",
      "2025-06-09 13:04:42.123659: I tensorflow/core/framework/local_rendezvous.cc:422] Local rendezvous recv item cancelled. Key hash: 9088888985000946472\n",
      "2025-06-09 13:04:42.123661: I tensorflow/core/framework/local_rendezvous.cc:422] Local rendezvous recv item cancelled. Key hash: 17622024213628996616\n",
      "2025-06-09 13:04:42.123663: I tensorflow/core/framework/local_rendezvous.cc:422] Local rendezvous recv item cancelled. Key hash: 221336101028506780\n",
      "2025-06-09 13:04:42.123664: I tensorflow/core/framework/local_rendezvous.cc:422] Local rendezvous recv item cancelled. Key hash: 189364043324911740\n",
      "2025-06-09 13:04:42.123666: I tensorflow/core/framework/local_rendezvous.cc:422] Local rendezvous recv item cancelled. Key hash: 12808669344951810636\n",
      "2025-06-09 13:04:42.123668: I tensorflow/core/framework/local_rendezvous.cc:422] Local rendezvous recv item cancelled. Key hash: 10908477027522829482\n"
     ]
    }
   ],
   "source": [
    "for sample in balanced_train_ds.take(1):\n",
    "    print(\"Data types:\", type(sample), \" | Length:\", len(sample))\n",
    "    print(\"Data types inside batch:\", [type(i) for i in sample])\n",
    "\n",
    "#So these lines are not able to execute\n",
    "images, labels = next(iter(balanced_train_ds))\n",
    "print(\"Label dtype:\", labels.dtype)\n",
    "print(\"Label sample:\", labels[:5])"
   ]
  },
  {
   "cell_type": "code",
   "execution_count": 13,
   "id": "0a6b6184-5f4f-4c74-ab9d-d9c8b7ed35d7",
   "metadata": {},
   "outputs": [
    {
     "name": "stdout",
     "output_type": "stream",
     "text": [
      "Image batch shape: (32, 224, 224, 3)\n",
      "Label batch shape: (32, 5)\n",
      "Sample labels: [[0. 1. 0. 0. 0.]\n",
      " [0. 1. 0. 0. 0.]\n",
      " [0. 1. 0. 0. 0.]\n",
      " [0. 1. 0. 0. 0.]\n",
      " [0. 1. 0. 0. 0.]]\n"
     ]
    },
    {
     "name": "stderr",
     "output_type": "stream",
     "text": [
      "2025-06-09 13:05:08.620956: W tensorflow/core/framework/local_rendezvous.cc:404] Local rendezvous is aborting with status: CANCELLED: RecvAsync is cancelled.\n",
      "\t [[{{function_node cond_true_279}}{{node cond/sequential_5_1/random_flip_8_1/Add}}]] [type.googleapis.com/tensorflow.DerivedStatus='']\n",
      "2025-06-09 13:05:08.620989: I tensorflow/core/framework/local_rendezvous.cc:422] Local rendezvous recv item cancelled. Key hash: 189364043324911740\n",
      "2025-06-09 13:05:08.621001: I tensorflow/core/framework/local_rendezvous.cc:422] Local rendezvous recv item cancelled. Key hash: 1395017209629196588\n",
      "2025-06-09 13:05:08.621008: W tensorflow/core/framework/local_rendezvous.cc:404] Local rendezvous is aborting with status: CANCELLED: RecvAsync is cancelled.\n",
      "\t [[{{function_node cond_true_279}}{{node cond/sequential_5_1/random_flip_8_1/Add}}]]\n",
      "\t [[cond/then/_0/cond/sequential_5_1/random_flip_7_1/ReadVariableOp/_22]] [type.googleapis.com/tensorflow.DerivedStatus='']\n",
      "2025-06-09 13:05:08.621014: I tensorflow/core/framework/local_rendezvous.cc:422] Local rendezvous recv item cancelled. Key hash: 11020564164073132315\n",
      "2025-06-09 13:05:08.621018: I tensorflow/core/framework/local_rendezvous.cc:422] Local rendezvous recv item cancelled. Key hash: 10224367694141399667\n",
      "2025-06-09 13:05:08.621023: I tensorflow/core/framework/local_rendezvous.cc:422] Local rendezvous recv item cancelled. Key hash: 6961277223893079969\n",
      "2025-06-09 13:05:08.621027: I tensorflow/core/framework/local_rendezvous.cc:422] Local rendezvous recv item cancelled. Key hash: 18205890177292323751\n",
      "2025-06-09 13:05:08.621032: I tensorflow/core/framework/local_rendezvous.cc:422] Local rendezvous recv item cancelled. Key hash: 4784485620175309907\n",
      "2025-06-09 13:05:08.621036: I tensorflow/core/framework/local_rendezvous.cc:422] Local rendezvous recv item cancelled. Key hash: 8365327253819551133\n",
      "2025-06-09 13:05:08.621041: I tensorflow/core/framework/local_rendezvous.cc:422] Local rendezvous recv item cancelled. Key hash: 6948068289862458717\n",
      "2025-06-09 13:05:08.621046: I tensorflow/core/framework/local_rendezvous.cc:422] Local rendezvous recv item cancelled. Key hash: 221336101028506780\n",
      "2025-06-09 13:05:08.621050: I tensorflow/core/framework/local_rendezvous.cc:422] Local rendezvous recv item cancelled. Key hash: 1235097400420843652\n",
      "2025-06-09 13:05:08.621054: I tensorflow/core/framework/local_rendezvous.cc:422] Local rendezvous recv item cancelled. Key hash: 17090160954685384598\n",
      "2025-06-09 13:05:08.621058: I tensorflow/core/framework/local_rendezvous.cc:422] Local rendezvous recv item cancelled. Key hash: 4384123920954469028\n",
      "2025-06-09 13:05:08.621062: I tensorflow/core/framework/local_rendezvous.cc:422] Local rendezvous recv item cancelled. Key hash: 12808669344951810636\n",
      "2025-06-09 13:05:08.621067: I tensorflow/core/framework/local_rendezvous.cc:422] Local rendezvous recv item cancelled. Key hash: 10908477027522829482\n",
      "2025-06-09 13:05:08.621100: W tensorflow/core/framework/local_rendezvous.cc:404] Local rendezvous is aborting with status: CANCELLED: RecvAsync is cancelled.\n",
      "\t [[{{function_node cond_true_279}}{{node cond/sequential_5_1/random_flip_8_1/Add}}]] [type.googleapis.com/tensorflow.DerivedStatus='']\n",
      "2025-06-09 13:05:08.621109: I tensorflow/core/framework/local_rendezvous.cc:422] Local rendezvous recv item cancelled. Key hash: 189364043324911740\n",
      "2025-06-09 13:05:08.621115: W tensorflow/core/framework/local_rendezvous.cc:404] Local rendezvous is aborting with status: CANCELLED: RecvAsync is cancelled.\n",
      "\t [[{{function_node cond_true_279}}{{node cond/sequential_5_1/random_flip_8_1/Add}}]]\n",
      "\t [[cond/then/_0/cond/sequential_5_1/random_contrast_2_1/Add/ReadVariableOp/_32]] [type.googleapis.com/tensorflow.DerivedStatus='']\n",
      "2025-06-09 13:05:08.621121: I tensorflow/core/framework/local_rendezvous.cc:422] Local rendezvous recv item cancelled. Key hash: 11020564164073132315\n",
      "2025-06-09 13:05:08.621125: I tensorflow/core/framework/local_rendezvous.cc:422] Local rendezvous recv item cancelled. Key hash: 10224367694141399667\n",
      "2025-06-09 13:05:08.621129: I tensorflow/core/framework/local_rendezvous.cc:422] Local rendezvous recv item cancelled. Key hash: 6961277223893079969\n",
      "2025-06-09 13:05:08.621133: I tensorflow/core/framework/local_rendezvous.cc:422] Local rendezvous recv item cancelled. Key hash: 18205890177292323751\n",
      "2025-06-09 13:05:08.621137: I tensorflow/core/framework/local_rendezvous.cc:422] Local rendezvous recv item cancelled. Key hash: 4784485620175309907\n",
      "2025-06-09 13:05:08.621140: I tensorflow/core/framework/local_rendezvous.cc:422] Local rendezvous recv item cancelled. Key hash: 1235097400420843652\n",
      "2025-06-09 13:05:08.621145: I tensorflow/core/framework/local_rendezvous.cc:422] Local rendezvous recv item cancelled. Key hash: 17090160954685384598\n",
      "2025-06-09 13:05:08.621149: I tensorflow/core/framework/local_rendezvous.cc:422] Local rendezvous recv item cancelled. Key hash: 4384123920954469028\n",
      "2025-06-09 13:05:08.621153: I tensorflow/core/framework/local_rendezvous.cc:422] Local rendezvous recv item cancelled. Key hash: 12808669344951810636\n",
      "2025-06-09 13:05:08.621156: I tensorflow/core/framework/local_rendezvous.cc:422] Local rendezvous recv item cancelled. Key hash: 10908477027522829482\n",
      "2025-06-09 13:05:08.621165: W tensorflow/core/framework/local_rendezvous.cc:404] Local rendezvous is aborting with status: CANCELLED: RecvAsync is cancelled.\n",
      "\t [[{{function_node cond_true_279}}{{node cond/sequential_5_1/random_flip_8_1/Add}}]] [type.googleapis.com/tensorflow.DerivedStatus='']\n",
      "2025-06-09 13:05:08.621169: I tensorflow/core/framework/local_rendezvous.cc:422] Local rendezvous recv item cancelled. Key hash: 189364043324911740\n",
      "2025-06-09 13:05:08.621172: I tensorflow/core/framework/local_rendezvous.cc:422] Local rendezvous recv item cancelled. Key hash: 1395017209629196588\n",
      "2025-06-09 13:05:08.621189: W tensorflow/core/framework/local_rendezvous.cc:404] Local rendezvous is aborting with status: CANCELLED: RecvAsync is cancelled.\n",
      "\t [[{{function_node cond_true_279}}{{node cond/sequential_5_1/random_flip_8_1/Add}}]]\n",
      "\t [[cond/then/_0/cond/sequential_5_1/random_contrast_2_1/Add/ReadVariableOp/_32]] [type.googleapis.com/tensorflow.DerivedStatus='']\n",
      "2025-06-09 13:05:08.621199: I tensorflow/core/framework/local_rendezvous.cc:422] Local rendezvous recv item cancelled. Key hash: 11020564164073132315\n",
      "2025-06-09 13:05:08.621204: I tensorflow/core/framework/local_rendezvous.cc:422] Local rendezvous recv item cancelled. Key hash: 10224367694141399667\n",
      "2025-06-09 13:05:08.621209: I tensorflow/core/framework/local_rendezvous.cc:422] Local rendezvous recv item cancelled. Key hash: 6961277223893079969\n",
      "2025-06-09 13:05:08.621213: I tensorflow/core/framework/local_rendezvous.cc:422] Local rendezvous recv item cancelled. Key hash: 18205890177292323751\n",
      "2025-06-09 13:05:08.621217: I tensorflow/core/framework/local_rendezvous.cc:422] Local rendezvous recv item cancelled. Key hash: 4784485620175309907\n",
      "2025-06-09 13:05:08.621221: I tensorflow/core/framework/local_rendezvous.cc:422] Local rendezvous recv item cancelled. Key hash: 6948068289862458717\n",
      "2025-06-09 13:05:08.621224: I tensorflow/core/framework/local_rendezvous.cc:422] Local rendezvous recv item cancelled. Key hash: 1235097400420843652\n",
      "2025-06-09 13:05:08.621228: I tensorflow/core/framework/local_rendezvous.cc:422] Local rendezvous recv item cancelled. Key hash: 17090160954685384598\n",
      "2025-06-09 13:05:08.621232: I tensorflow/core/framework/local_rendezvous.cc:422] Local rendezvous recv item cancelled. Key hash: 4384123920954469028\n",
      "2025-06-09 13:05:08.621235: I tensorflow/core/framework/local_rendezvous.cc:422] Local rendezvous recv item cancelled. Key hash: 12808669344951810636\n",
      "2025-06-09 13:05:08.621239: I tensorflow/core/framework/local_rendezvous.cc:422] Local rendezvous recv item cancelled. Key hash: 10908477027522829482\n",
      "2025-06-09 13:05:08.667064: W tensorflow/core/framework/local_rendezvous.cc:404] Local rendezvous is aborting with status: OUT_OF_RANGE: End of sequence\n"
     ]
    }
   ],
   "source": [
    "for images, labels in balanced_train_ds.take(1):\n",
    "    print(\"Image batch shape:\", images.shape)\n",
    "    print(\"Label batch shape:\", labels.shape)\n",
    "    print(\"Sample labels:\", labels.numpy()[:5])"
   ]
  },
  {
   "cell_type": "code",
   "execution_count": 14,
   "id": "883820ef-a65a-412e-9ba0-efe97355fd33",
   "metadata": {},
   "outputs": [],
   "source": [
    "# Prepare Validation and Test Sets do not use augmentation—just rescale:\n",
    "rescale = tf.keras.Sequential([tf.keras.layers.Rescaling(1./255)])\n",
    "\n",
    "val_ds = val_ds.map(lambda x, y: (rescale(x), y)).prefetch(tf.data.AUTOTUNE)\n",
    "test_ds = test_ds.map(lambda x, y: (rescale(x), y)).prefetch(tf.data.AUTOTUNE)"
   ]
  },
  {
   "cell_type": "code",
   "execution_count": 15,
   "id": "f61c6eeb-3fce-4872-a642-cb9852bc76c9",
   "metadata": {},
   "outputs": [],
   "source": [
    "model = tf.keras.Sequential([\n",
    "    tf.keras.layers.InputLayer(shape=(IMG_SIZE, IMG_SIZE, 3)),\n",
    "    tf.keras.layers.Conv2D(32, 3, activation='relu'),\n",
    "    tf.keras.layers.MaxPooling2D(),\n",
    "    tf.keras.layers.Flatten(),\n",
    "    tf.keras.layers.Dense(len(class_names), activation='softmax')\n",
    "])\n",
    "\n",
    "model.compile(\n",
    "    optimizer='adam',\n",
    "    loss='categorical_crossentropy',\n",
    "    metrics=['accuracy']\n",
    ")\n"
   ]
  },
  {
   "cell_type": "code",
   "execution_count": 17,
   "id": "6d71348f-e105-401f-9f68-23f6a5c2fcb1",
   "metadata": {},
   "outputs": [
    {
     "name": "stdout",
     "output_type": "stream",
     "text": [
      "{0: 0.4138518308260006, 1: 0.7809319764327799, 2: 2.2259541984732825, 3: 2.229357798165138, 4: 2.467005076142132}\n"
     ]
    }
   ],
   "source": [
    "# original dict with string keys\n",
    "class_weight_dict_str = {\n",
    "    'H1': 0.4138518308260006,\n",
    "    'H2': 0.7809319764327799,\n",
    "    'H3': 2.2259541984732825,\n",
    "    'H5': 2.229357798165138,\n",
    "    'H6': 2.467005076142132\n",
    "}\n",
    "\n",
    "# Convert to integer keys for Keras\n",
    "class_weight_dict = {\n",
    "    class_names.index(cls): float(weight)\n",
    "    for cls, weight in class_weight_dict_str.items()\n",
    "}\n",
    "\n",
    "print(class_weight_dict)"
   ]
  },
  {
   "cell_type": "code",
   "execution_count": 18,
   "id": "61ecd041-3bec-473b-91a9-a73ed268c068",
   "metadata": {},
   "outputs": [
    {
     "name": "stdout",
     "output_type": "stream",
     "text": [
      "Epoch 1/10\n",
      "    552/Unknown \u001b[1m120s\u001b[0m 205ms/step - accuracy: 0.2650 - loss: 2357.8589"
     ]
    },
    {
     "name": "stderr",
     "output_type": "stream",
     "text": [
      "2025-06-09 13:08:13.493100: W tensorflow/core/framework/local_rendezvous.cc:404] Local rendezvous is aborting with status: OUT_OF_RANGE: End of sequence\n",
      "\t [[{{node IteratorGetNext}}]]\n",
      "2025-06-09 13:08:13.493120: W tensorflow/core/framework/local_rendezvous.cc:404] Local rendezvous is aborting with status: OUT_OF_RANGE: End of sequence\n",
      "\t [[{{node IteratorGetNext}}]]\n",
      "\t [[IteratorGetNext/_14]]\n",
      "2025-06-09 13:08:13.493132: I tensorflow/core/framework/local_rendezvous.cc:422] Local rendezvous recv item cancelled. Key hash: 5326962178744273090\n",
      "2025-06-09 13:08:13.493141: I tensorflow/core/framework/local_rendezvous.cc:422] Local rendezvous recv item cancelled. Key hash: 9218567080647906154\n",
      "2025-06-09 13:08:13.493144: I tensorflow/core/framework/local_rendezvous.cc:422] Local rendezvous recv item cancelled. Key hash: 4464310331644997555\n",
      "2025-06-09 13:08:13.493150: I tensorflow/core/framework/local_rendezvous.cc:422] Local rendezvous recv item cancelled. Key hash: 15533628806704469064\n",
      "2025-06-09 13:08:13.493154: I tensorflow/core/framework/local_rendezvous.cc:422] Local rendezvous recv item cancelled. Key hash: 15591809205591026986\n",
      "2025-06-09 13:08:13.493156: I tensorflow/core/framework/local_rendezvous.cc:422] Local rendezvous recv item cancelled. Key hash: 5019898821801017176\n",
      "2025-06-09 13:08:13.493159: I tensorflow/core/framework/local_rendezvous.cc:422] Local rendezvous recv item cancelled. Key hash: 7504815338277858003\n",
      "2025-06-09 13:08:13.493162: I tensorflow/core/framework/local_rendezvous.cc:422] Local rendezvous recv item cancelled. Key hash: 8571531358079994845\n",
      "2025-06-09 13:08:13.493166: I tensorflow/core/framework/local_rendezvous.cc:422] Local rendezvous recv item cancelled. Key hash: 7252949870604148205\n",
      "2025-06-09 13:08:13.493170: I tensorflow/core/framework/local_rendezvous.cc:422] Local rendezvous recv item cancelled. Key hash: 17594917853368155715\n",
      "2025-06-09 13:08:13.493172: I tensorflow/core/framework/local_rendezvous.cc:422] Local rendezvous recv item cancelled. Key hash: 645114054710323013\n",
      "/Users/tehreem/miniforge3/envs/notebook_env/lib/python3.10/site-packages/keras/src/trainers/epoch_iterator.py:151: UserWarning: Your input ran out of data; interrupting training. Make sure that your dataset or generator can generate at least `steps_per_epoch * epochs` batches. You may need to use the `.repeat()` function when building your dataset.\n",
      "  self._interrupted_warning()\n"
     ]
    },
    {
     "name": "stdout",
     "output_type": "stream",
     "text": [
      "\u001b[1m553/553\u001b[0m \u001b[32m━━━━━━━━━━━━━━━━━━━━\u001b[0m\u001b[37m\u001b[0m \u001b[1m120s\u001b[0m 206ms/step - accuracy: 0.2651 - loss: 2351.4929 - val_accuracy: 0.0969 - val_loss: 1.6498\n",
      "Epoch 2/10\n",
      "\u001b[1m552/553\u001b[0m \u001b[32m━━━━━━━━━━━━━━━━━━━\u001b[0m\u001b[37m━\u001b[0m \u001b[1m0s\u001b[0m 220ms/step - accuracy: 0.2922 - loss: 2.3477"
     ]
    },
    {
     "name": "stderr",
     "output_type": "stream",
     "text": [
      "2025-06-09 13:10:20.506462: W tensorflow/core/framework/local_rendezvous.cc:404] Local rendezvous is aborting with status: OUT_OF_RANGE: End of sequence\n",
      "\t [[{{node IteratorGetNext}}]]\n",
      "2025-06-09 13:10:20.506493: W tensorflow/core/framework/local_rendezvous.cc:404] Local rendezvous is aborting with status: OUT_OF_RANGE: End of sequence\n",
      "\t [[{{node IteratorGetNext}}]]\n",
      "\t [[IteratorGetNext/_42]]\n",
      "2025-06-09 13:10:20.506497: I tensorflow/core/framework/local_rendezvous.cc:422] Local rendezvous recv item cancelled. Key hash: 4081508238768780211\n",
      "2025-06-09 13:10:20.506499: I tensorflow/core/framework/local_rendezvous.cc:422] Local rendezvous recv item cancelled. Key hash: 6744818974853584469\n",
      "2025-06-09 13:10:20.506505: I tensorflow/core/framework/local_rendezvous.cc:422] Local rendezvous recv item cancelled. Key hash: 645114054710323013\n",
      "2025-06-09 13:10:20.506507: I tensorflow/core/framework/local_rendezvous.cc:422] Local rendezvous recv item cancelled. Key hash: 18157025256602548069\n",
      "2025-06-09 13:10:20.506509: I tensorflow/core/framework/local_rendezvous.cc:422] Local rendezvous recv item cancelled. Key hash: 7504815338277858003\n",
      "2025-06-09 13:10:20.506514: I tensorflow/core/framework/local_rendezvous.cc:422] Local rendezvous recv item cancelled. Key hash: 8571531358079994845\n",
      "2025-06-09 13:10:20.506516: I tensorflow/core/framework/local_rendezvous.cc:422] Local rendezvous recv item cancelled. Key hash: 7252949870604148205\n",
      "2025-06-09 13:10:20.506517: I tensorflow/core/framework/local_rendezvous.cc:422] Local rendezvous recv item cancelled. Key hash: 17594917853368155715\n",
      "2025-06-09 13:10:20.506520: I tensorflow/core/framework/local_rendezvous.cc:422] Local rendezvous recv item cancelled. Key hash: 4464310331644997555\n",
      "2025-06-09 13:10:20.506524: I tensorflow/core/framework/local_rendezvous.cc:422] Local rendezvous recv item cancelled. Key hash: 16285674403355951032\n",
      "2025-06-09 13:10:20.506525: I tensorflow/core/framework/local_rendezvous.cc:422] Local rendezvous recv item cancelled. Key hash: 643988392482176096\n",
      "2025-06-09 13:10:20.506527: I tensorflow/core/framework/local_rendezvous.cc:422] Local rendezvous recv item cancelled. Key hash: 9218567080647906154\n",
      "2025-06-09 13:10:20.506529: I tensorflow/core/framework/local_rendezvous.cc:422] Local rendezvous recv item cancelled. Key hash: 8070410791143392048\n",
      "2025-06-09 13:10:20.506530: I tensorflow/core/framework/local_rendezvous.cc:422] Local rendezvous recv item cancelled. Key hash: 11684750736550131650\n",
      "2025-06-09 13:10:20.506532: I tensorflow/core/framework/local_rendezvous.cc:422] Local rendezvous recv item cancelled. Key hash: 5326962178744273090\n",
      "2025-06-09 13:10:20.506533: I tensorflow/core/framework/local_rendezvous.cc:422] Local rendezvous recv item cancelled. Key hash: 11385054372013497162\n",
      "2025-06-09 13:10:20.506535: I tensorflow/core/framework/local_rendezvous.cc:422] Local rendezvous recv item cancelled. Key hash: 7381594762716830756\n",
      "2025-06-09 13:10:20.506539: I tensorflow/core/framework/local_rendezvous.cc:422] Local rendezvous recv item cancelled. Key hash: 15591809205591026986\n",
      "2025-06-09 13:10:20.506541: I tensorflow/core/framework/local_rendezvous.cc:422] Local rendezvous recv item cancelled. Key hash: 5019898821801017176\n"
     ]
    },
    {
     "name": "stdout",
     "output_type": "stream",
     "text": [
      "\u001b[1m553/553\u001b[0m \u001b[32m━━━━━━━━━━━━━━━━━━━━\u001b[0m\u001b[37m\u001b[0m \u001b[1m127s\u001b[0m 220ms/step - accuracy: 0.2922 - loss: 2.3480 - val_accuracy: 0.0925 - val_loss: 1.7115\n",
      "Epoch 3/10\n",
      "\u001b[1m552/553\u001b[0m \u001b[32m━━━━━━━━━━━━━━━━━━━\u001b[0m\u001b[37m━\u001b[0m \u001b[1m0s\u001b[0m 254ms/step - accuracy: 0.2703 - loss: 2.2382"
     ]
    },
    {
     "name": "stderr",
     "output_type": "stream",
     "text": [
      "2025-06-09 13:12:47.325839: W tensorflow/core/framework/local_rendezvous.cc:404] Local rendezvous is aborting with status: OUT_OF_RANGE: End of sequence\n",
      "\t [[{{node IteratorGetNext}}]]\n",
      "2025-06-09 13:12:47.325872: W tensorflow/core/framework/local_rendezvous.cc:404] Local rendezvous is aborting with status: OUT_OF_RANGE: End of sequence\n",
      "\t [[{{node IteratorGetNext}}]]\n",
      "\t [[IteratorGetNext/_42]]\n",
      "2025-06-09 13:12:47.325878: I tensorflow/core/framework/local_rendezvous.cc:422] Local rendezvous recv item cancelled. Key hash: 4081508238768780211\n",
      "2025-06-09 13:12:47.325881: I tensorflow/core/framework/local_rendezvous.cc:422] Local rendezvous recv item cancelled. Key hash: 6744818974853584469\n",
      "2025-06-09 13:12:47.325894: I tensorflow/core/framework/local_rendezvous.cc:422] Local rendezvous recv item cancelled. Key hash: 645114054710323013\n",
      "2025-06-09 13:12:47.325898: I tensorflow/core/framework/local_rendezvous.cc:422] Local rendezvous recv item cancelled. Key hash: 18157025256602548069\n",
      "2025-06-09 13:12:47.325900: I tensorflow/core/framework/local_rendezvous.cc:422] Local rendezvous recv item cancelled. Key hash: 7504815338277858003\n",
      "2025-06-09 13:12:47.325905: I tensorflow/core/framework/local_rendezvous.cc:422] Local rendezvous recv item cancelled. Key hash: 8571531358079994845\n",
      "2025-06-09 13:12:47.325908: I tensorflow/core/framework/local_rendezvous.cc:422] Local rendezvous recv item cancelled. Key hash: 7252949870604148205\n",
      "2025-06-09 13:12:47.325910: I tensorflow/core/framework/local_rendezvous.cc:422] Local rendezvous recv item cancelled. Key hash: 17594917853368155715\n",
      "2025-06-09 13:12:47.325916: I tensorflow/core/framework/local_rendezvous.cc:422] Local rendezvous recv item cancelled. Key hash: 4464310331644997555\n",
      "2025-06-09 13:12:47.325921: I tensorflow/core/framework/local_rendezvous.cc:422] Local rendezvous recv item cancelled. Key hash: 16285674403355951032\n",
      "2025-06-09 13:12:47.325923: I tensorflow/core/framework/local_rendezvous.cc:422] Local rendezvous recv item cancelled. Key hash: 643988392482176096\n",
      "2025-06-09 13:12:47.325926: I tensorflow/core/framework/local_rendezvous.cc:422] Local rendezvous recv item cancelled. Key hash: 9218567080647906154\n",
      "2025-06-09 13:12:47.325928: I tensorflow/core/framework/local_rendezvous.cc:422] Local rendezvous recv item cancelled. Key hash: 8070410791143392048\n",
      "2025-06-09 13:12:47.325930: I tensorflow/core/framework/local_rendezvous.cc:422] Local rendezvous recv item cancelled. Key hash: 11684750736550131650\n",
      "2025-06-09 13:12:47.325932: I tensorflow/core/framework/local_rendezvous.cc:422] Local rendezvous recv item cancelled. Key hash: 11385054372013497162\n",
      "2025-06-09 13:12:47.325934: I tensorflow/core/framework/local_rendezvous.cc:422] Local rendezvous recv item cancelled. Key hash: 7381594762716830756\n",
      "2025-06-09 13:12:47.325940: I tensorflow/core/framework/local_rendezvous.cc:422] Local rendezvous recv item cancelled. Key hash: 15591809205591026986\n",
      "2025-06-09 13:12:47.325942: I tensorflow/core/framework/local_rendezvous.cc:422] Local rendezvous recv item cancelled. Key hash: 5019898821801017176\n"
     ]
    },
    {
     "name": "stdout",
     "output_type": "stream",
     "text": [
      "\u001b[1m553/553\u001b[0m \u001b[32m━━━━━━━━━━━━━━━━━━━━\u001b[0m\u001b[37m\u001b[0m \u001b[1m147s\u001b[0m 255ms/step - accuracy: 0.2703 - loss: 2.2384 - val_accuracy: 0.0925 - val_loss: 1.7683\n",
      "Epoch 4/10\n",
      "\u001b[1m199/553\u001b[0m \u001b[32m━━━━━━━\u001b[0m\u001b[37m━━━━━━━━━━━━━\u001b[0m \u001b[1m1:42\u001b[0m 290ms/step - accuracy: 0.2860 - loss: 2.2892"
     ]
    },
    {
     "name": "stderr",
     "output_type": "stream",
     "text": [
      "2025-06-09 13:13:59.251733: I tensorflow/core/kernels/data/shuffle_dataset_op.cc:450] ShuffleDatasetV3:66: Filling up shuffle buffer (this may take a while): 482 of 1000\n",
      "2025-06-09 13:13:59.639157: I tensorflow/core/kernels/data/shuffle_dataset_op.cc:480] Shuffle buffer filled.\n"
     ]
    },
    {
     "name": "stdout",
     "output_type": "stream",
     "text": [
      "\u001b[1m553/553\u001b[0m \u001b[32m━━━━━━━━━━━━━━━━━━━━\u001b[0m\u001b[37m\u001b[0m \u001b[1m0s\u001b[0m 266ms/step - accuracy: 0.2731 - loss: 2.2409"
     ]
    },
    {
     "name": "stderr",
     "output_type": "stream",
     "text": [
      "2025-06-09 13:15:21.673530: W tensorflow/core/framework/local_rendezvous.cc:404] Local rendezvous is aborting with status: OUT_OF_RANGE: End of sequence\n",
      "\t [[{{node IteratorGetNext}}]]\n",
      "2025-06-09 13:15:21.673563: W tensorflow/core/framework/local_rendezvous.cc:404] Local rendezvous is aborting with status: OUT_OF_RANGE: End of sequence\n",
      "\t [[{{node IteratorGetNext}}]]\n",
      "\t [[StatefulPartitionedCall/adam/Cast_1/_3]]\n",
      "2025-06-09 13:15:21.673576: I tensorflow/core/framework/local_rendezvous.cc:422] Local rendezvous recv item cancelled. Key hash: 16285674403355951032\n",
      "2025-06-09 13:15:21.673584: I tensorflow/core/framework/local_rendezvous.cc:422] Local rendezvous recv item cancelled. Key hash: 4081508238768780211\n",
      "2025-06-09 13:15:21.673592: I tensorflow/core/framework/local_rendezvous.cc:422] Local rendezvous recv item cancelled. Key hash: 6744818974853584469\n",
      "2025-06-09 13:15:21.673598: I tensorflow/core/framework/local_rendezvous.cc:422] Local rendezvous recv item cancelled. Key hash: 643988392482176096\n",
      "2025-06-09 13:15:21.673602: I tensorflow/core/framework/local_rendezvous.cc:422] Local rendezvous recv item cancelled. Key hash: 9218567080647906154\n",
      "2025-06-09 13:15:21.673605: I tensorflow/core/framework/local_rendezvous.cc:422] Local rendezvous recv item cancelled. Key hash: 645114054710323013\n",
      "2025-06-09 13:15:21.673610: I tensorflow/core/framework/local_rendezvous.cc:422] Local rendezvous recv item cancelled. Key hash: 18157025256602548069\n",
      "2025-06-09 13:15:21.673615: I tensorflow/core/framework/local_rendezvous.cc:422] Local rendezvous recv item cancelled. Key hash: 7504815338277858003\n",
      "2025-06-09 13:15:21.673619: I tensorflow/core/framework/local_rendezvous.cc:422] Local rendezvous recv item cancelled. Key hash: 15533628806704469064\n",
      "2025-06-09 13:15:21.673622: I tensorflow/core/framework/local_rendezvous.cc:422] Local rendezvous recv item cancelled. Key hash: 8070410791143392048\n",
      "2025-06-09 13:15:21.673625: I tensorflow/core/framework/local_rendezvous.cc:422] Local rendezvous recv item cancelled. Key hash: 11684750736550131650\n",
      "2025-06-09 13:15:21.673629: I tensorflow/core/framework/local_rendezvous.cc:422] Local rendezvous recv item cancelled. Key hash: 5326962178744273090\n",
      "2025-06-09 13:15:21.673630: I tensorflow/core/framework/local_rendezvous.cc:422] Local rendezvous recv item cancelled. Key hash: 8571531358079994845\n",
      "2025-06-09 13:15:21.673635: I tensorflow/core/framework/local_rendezvous.cc:422] Local rendezvous recv item cancelled. Key hash: 11385054372013497162\n",
      "2025-06-09 13:15:21.673640: I tensorflow/core/framework/local_rendezvous.cc:422] Local rendezvous recv item cancelled. Key hash: 7381594762716830756\n",
      "2025-06-09 13:15:21.673643: I tensorflow/core/framework/local_rendezvous.cc:422] Local rendezvous recv item cancelled. Key hash: 15591809205591026986\n",
      "2025-06-09 13:15:21.673645: I tensorflow/core/framework/local_rendezvous.cc:422] Local rendezvous recv item cancelled. Key hash: 7252949870604148205\n",
      "2025-06-09 13:15:21.673657: I tensorflow/core/framework/local_rendezvous.cc:422] Local rendezvous recv item cancelled. Key hash: 17594917853368155715\n",
      "2025-06-09 13:15:21.673662: I tensorflow/core/framework/local_rendezvous.cc:422] Local rendezvous recv item cancelled. Key hash: 5019898821801017176\n",
      "2025-06-09 13:15:21.673667: I tensorflow/core/framework/local_rendezvous.cc:422] Local rendezvous recv item cancelled. Key hash: 4464310331644997555\n"
     ]
    },
    {
     "name": "stdout",
     "output_type": "stream",
     "text": [
      "\u001b[1m553/553\u001b[0m \u001b[32m━━━━━━━━━━━━━━━━━━━━\u001b[0m\u001b[37m\u001b[0m \u001b[1m154s\u001b[0m 267ms/step - accuracy: 0.2731 - loss: 2.2409 - val_accuracy: 0.0881 - val_loss: 1.8135\n",
      "Epoch 5/10\n",
      "\u001b[1m552/553\u001b[0m \u001b[32m━━━━━━━━━━━━━━━━━━━\u001b[0m\u001b[37m━\u001b[0m \u001b[1m0s\u001b[0m 268ms/step - accuracy: 0.2640 - loss: 2.1591"
     ]
    },
    {
     "name": "stderr",
     "output_type": "stream",
     "text": [
      "2025-06-09 13:17:57.676763: W tensorflow/core/framework/local_rendezvous.cc:404] Local rendezvous is aborting with status: OUT_OF_RANGE: End of sequence\n",
      "\t [[{{node IteratorGetNext}}]]\n",
      "2025-06-09 13:17:57.676798: W tensorflow/core/framework/local_rendezvous.cc:404] Local rendezvous is aborting with status: OUT_OF_RANGE: End of sequence\n",
      "\t [[{{node IteratorGetNext}}]]\n",
      "\t [[IteratorGetNext/_42]]\n",
      "2025-06-09 13:17:57.676810: I tensorflow/core/framework/local_rendezvous.cc:422] Local rendezvous recv item cancelled. Key hash: 4081508238768780211\n",
      "2025-06-09 13:17:57.676814: I tensorflow/core/framework/local_rendezvous.cc:422] Local rendezvous recv item cancelled. Key hash: 6744818974853584469\n",
      "2025-06-09 13:17:57.676826: I tensorflow/core/framework/local_rendezvous.cc:422] Local rendezvous recv item cancelled. Key hash: 645114054710323013\n",
      "2025-06-09 13:17:57.676829: I tensorflow/core/framework/local_rendezvous.cc:422] Local rendezvous recv item cancelled. Key hash: 18157025256602548069\n",
      "2025-06-09 13:17:57.676832: I tensorflow/core/framework/local_rendezvous.cc:422] Local rendezvous recv item cancelled. Key hash: 7504815338277858003\n",
      "2025-06-09 13:17:57.676840: I tensorflow/core/framework/local_rendezvous.cc:422] Local rendezvous recv item cancelled. Key hash: 8571531358079994845\n",
      "2025-06-09 13:17:57.676843: I tensorflow/core/framework/local_rendezvous.cc:422] Local rendezvous recv item cancelled. Key hash: 7252949870604148205\n",
      "2025-06-09 13:17:57.676846: I tensorflow/core/framework/local_rendezvous.cc:422] Local rendezvous recv item cancelled. Key hash: 17594917853368155715\n",
      "2025-06-09 13:17:57.676851: I tensorflow/core/framework/local_rendezvous.cc:422] Local rendezvous recv item cancelled. Key hash: 4464310331644997555\n",
      "2025-06-09 13:17:57.676856: I tensorflow/core/framework/local_rendezvous.cc:422] Local rendezvous recv item cancelled. Key hash: 16285674403355951032\n",
      "2025-06-09 13:17:57.676859: I tensorflow/core/framework/local_rendezvous.cc:422] Local rendezvous recv item cancelled. Key hash: 643988392482176096\n",
      "2025-06-09 13:17:57.676862: I tensorflow/core/framework/local_rendezvous.cc:422] Local rendezvous recv item cancelled. Key hash: 9218567080647906154\n",
      "2025-06-09 13:17:57.676864: I tensorflow/core/framework/local_rendezvous.cc:422] Local rendezvous recv item cancelled. Key hash: 8070410791143392048\n",
      "2025-06-09 13:17:57.676867: I tensorflow/core/framework/local_rendezvous.cc:422] Local rendezvous recv item cancelled. Key hash: 11684750736550131650\n",
      "2025-06-09 13:17:57.676869: I tensorflow/core/framework/local_rendezvous.cc:422] Local rendezvous recv item cancelled. Key hash: 5326962178744273090\n",
      "2025-06-09 13:17:57.676872: I tensorflow/core/framework/local_rendezvous.cc:422] Local rendezvous recv item cancelled. Key hash: 11385054372013497162\n",
      "2025-06-09 13:17:57.676874: I tensorflow/core/framework/local_rendezvous.cc:422] Local rendezvous recv item cancelled. Key hash: 7381594762716830756\n",
      "2025-06-09 13:17:57.676880: I tensorflow/core/framework/local_rendezvous.cc:422] Local rendezvous recv item cancelled. Key hash: 15591809205591026986\n",
      "2025-06-09 13:17:57.676883: I tensorflow/core/framework/local_rendezvous.cc:422] Local rendezvous recv item cancelled. Key hash: 5019898821801017176\n"
     ]
    },
    {
     "name": "stdout",
     "output_type": "stream",
     "text": [
      "\u001b[1m553/553\u001b[0m \u001b[32m━━━━━━━━━━━━━━━━━━━━\u001b[0m\u001b[37m\u001b[0m \u001b[1m156s\u001b[0m 269ms/step - accuracy: 0.2640 - loss: 2.1591 - val_accuracy: 0.0892 - val_loss: 1.8535\n",
      "Epoch 6/10\n",
      "\u001b[1m199/553\u001b[0m \u001b[32m━━━━━━━\u001b[0m\u001b[37m━━━━━━━━━━━━━\u001b[0m \u001b[1m1:49\u001b[0m 309ms/step - accuracy: 0.2776 - loss: 2.2022"
     ]
    },
    {
     "name": "stderr",
     "output_type": "stream",
     "text": [
      "2025-06-09 13:19:13.992162: I tensorflow/core/kernels/data/shuffle_dataset_op.cc:450] ShuffleDatasetV3:66: Filling up shuffle buffer (this may take a while): 489 of 1000\n"
     ]
    },
    {
     "name": "stdout",
     "output_type": "stream",
     "text": [
      "\u001b[1m201/553\u001b[0m \u001b[32m━━━━━━━\u001b[0m\u001b[37m━━━━━━━━━━━━━\u001b[0m \u001b[1m2:00\u001b[0m 343ms/step - accuracy: 0.2772 - loss: 2.2014"
     ]
    },
    {
     "name": "stderr",
     "output_type": "stream",
     "text": [
      "2025-06-09 13:19:14.236187: I tensorflow/core/kernels/data/shuffle_dataset_op.cc:480] Shuffle buffer filled.\n"
     ]
    },
    {
     "name": "stdout",
     "output_type": "stream",
     "text": [
      "\u001b[1m552/553\u001b[0m \u001b[32m━━━━━━━━━━━━━━━━━━━\u001b[0m\u001b[37m━\u001b[0m \u001b[1m0s\u001b[0m 278ms/step - accuracy: 0.2702 - loss: 2.1568"
     ]
    },
    {
     "name": "stderr",
     "output_type": "stream",
     "text": [
      "2025-06-09 13:20:39.029759: W tensorflow/core/framework/local_rendezvous.cc:404] Local rendezvous is aborting with status: OUT_OF_RANGE: End of sequence\n",
      "\t [[{{node IteratorGetNext}}]]\n",
      "2025-06-09 13:20:39.029787: W tensorflow/core/framework/local_rendezvous.cc:404] Local rendezvous is aborting with status: OUT_OF_RANGE: End of sequence\n",
      "\t [[{{node IteratorGetNext}}]]\n",
      "\t [[StatefulPartitionedCall/adam/Cast_1/_3]]\n",
      "2025-06-09 13:20:39.029798: I tensorflow/core/framework/local_rendezvous.cc:422] Local rendezvous recv item cancelled. Key hash: 16285674403355951032\n",
      "2025-06-09 13:20:39.029806: I tensorflow/core/framework/local_rendezvous.cc:422] Local rendezvous recv item cancelled. Key hash: 4081508238768780211\n",
      "2025-06-09 13:20:39.029811: I tensorflow/core/framework/local_rendezvous.cc:422] Local rendezvous recv item cancelled. Key hash: 6744818974853584469\n",
      "2025-06-09 13:20:39.029816: I tensorflow/core/framework/local_rendezvous.cc:422] Local rendezvous recv item cancelled. Key hash: 643988392482176096\n",
      "2025-06-09 13:20:39.029821: I tensorflow/core/framework/local_rendezvous.cc:422] Local rendezvous recv item cancelled. Key hash: 645114054710323013\n",
      "2025-06-09 13:20:39.029827: I tensorflow/core/framework/local_rendezvous.cc:422] Local rendezvous recv item cancelled. Key hash: 9218567080647906154\n",
      "2025-06-09 13:20:39.029833: I tensorflow/core/framework/local_rendezvous.cc:422] Local rendezvous recv item cancelled. Key hash: 15533628806704469064\n",
      "2025-06-09 13:20:39.029838: I tensorflow/core/framework/local_rendezvous.cc:422] Local rendezvous recv item cancelled. Key hash: 8070410791143392048\n",
      "2025-06-09 13:20:39.029843: I tensorflow/core/framework/local_rendezvous.cc:422] Local rendezvous recv item cancelled. Key hash: 11684750736550131650\n",
      "2025-06-09 13:20:39.029847: I tensorflow/core/framework/local_rendezvous.cc:422] Local rendezvous recv item cancelled. Key hash: 18157025256602548069\n",
      "2025-06-09 13:20:39.029855: I tensorflow/core/framework/local_rendezvous.cc:422] Local rendezvous recv item cancelled. Key hash: 5326962178744273090\n",
      "2025-06-09 13:20:39.029860: I tensorflow/core/framework/local_rendezvous.cc:422] Local rendezvous recv item cancelled. Key hash: 11385054372013497162\n",
      "2025-06-09 13:20:39.029864: I tensorflow/core/framework/local_rendezvous.cc:422] Local rendezvous recv item cancelled. Key hash: 7381594762716830756\n",
      "2025-06-09 13:20:39.029868: I tensorflow/core/framework/local_rendezvous.cc:422] Local rendezvous recv item cancelled. Key hash: 15591809205591026986\n",
      "2025-06-09 13:20:39.029873: I tensorflow/core/framework/local_rendezvous.cc:422] Local rendezvous recv item cancelled. Key hash: 7504815338277858003\n",
      "2025-06-09 13:20:39.029885: I tensorflow/core/framework/local_rendezvous.cc:422] Local rendezvous recv item cancelled. Key hash: 8571531358079994845\n",
      "2025-06-09 13:20:39.029891: I tensorflow/core/framework/local_rendezvous.cc:422] Local rendezvous recv item cancelled. Key hash: 5019898821801017176\n",
      "2025-06-09 13:20:39.029902: I tensorflow/core/framework/local_rendezvous.cc:422] Local rendezvous recv item cancelled. Key hash: 7252949870604148205\n",
      "2025-06-09 13:20:39.029909: I tensorflow/core/framework/local_rendezvous.cc:422] Local rendezvous recv item cancelled. Key hash: 17594917853368155715\n",
      "2025-06-09 13:20:39.029920: I tensorflow/core/framework/local_rendezvous.cc:422] Local rendezvous recv item cancelled. Key hash: 4464310331644997555\n"
     ]
    },
    {
     "name": "stdout",
     "output_type": "stream",
     "text": [
      "\u001b[1m553/553\u001b[0m \u001b[32m━━━━━━━━━━━━━━━━━━━━\u001b[0m\u001b[37m\u001b[0m \u001b[1m162s\u001b[0m 279ms/step - accuracy: 0.2702 - loss: 2.1569 - val_accuracy: 0.0870 - val_loss: 1.8892\n",
      "Epoch 7/10\n",
      "\u001b[1m199/553\u001b[0m \u001b[32m━━━━━━━\u001b[0m\u001b[37m━━━━━━━━━━━━━\u001b[0m \u001b[1m1:45\u001b[0m 297ms/step - accuracy: 0.2791 - loss: 2.1015"
     ]
    },
    {
     "name": "stderr",
     "output_type": "stream",
     "text": [
      "2025-06-09 13:21:52.767478: I tensorflow/core/kernels/data/shuffle_dataset_op.cc:450] ShuffleDatasetV3:66: Filling up shuffle buffer (this may take a while): 427 of 1000\n"
     ]
    },
    {
     "name": "stdout",
     "output_type": "stream",
     "text": [
      "\u001b[1m202/553\u001b[0m \u001b[32m━━━━━━━\u001b[0m\u001b[37m━━━━━━━━━━━━━\u001b[0m \u001b[1m1:56\u001b[0m 331ms/step - accuracy: 0.2785 - loss: 2.1015"
     ]
    },
    {
     "name": "stderr",
     "output_type": "stream",
     "text": [
      "2025-06-09 13:21:53.825064: I tensorflow/core/kernels/data/shuffle_dataset_op.cc:480] Shuffle buffer filled.\n"
     ]
    },
    {
     "name": "stdout",
     "output_type": "stream",
     "text": [
      "\u001b[1m552/553\u001b[0m \u001b[32m━━━━━━━━━━━━━━━━━━━\u001b[0m\u001b[37m━\u001b[0m \u001b[1m0s\u001b[0m 286ms/step - accuracy: 0.2681 - loss: 2.1110"
     ]
    },
    {
     "name": "stderr",
     "output_type": "stream",
     "text": [
      "2025-06-09 13:23:25.120058: W tensorflow/core/framework/local_rendezvous.cc:404] Local rendezvous is aborting with status: OUT_OF_RANGE: End of sequence\n",
      "\t [[{{node IteratorGetNext}}]]\n",
      "2025-06-09 13:23:25.120088: W tensorflow/core/framework/local_rendezvous.cc:404] Local rendezvous is aborting with status: OUT_OF_RANGE: End of sequence\n",
      "\t [[{{node IteratorGetNext}}]]\n",
      "\t [[IteratorGetNext/_42]]\n",
      "2025-06-09 13:23:25.120098: I tensorflow/core/framework/local_rendezvous.cc:422] Local rendezvous recv item cancelled. Key hash: 4081508238768780211\n",
      "2025-06-09 13:23:25.120102: I tensorflow/core/framework/local_rendezvous.cc:422] Local rendezvous recv item cancelled. Key hash: 6744818974853584469\n",
      "2025-06-09 13:23:25.120118: I tensorflow/core/framework/local_rendezvous.cc:422] Local rendezvous recv item cancelled. Key hash: 645114054710323013\n",
      "2025-06-09 13:23:25.120122: I tensorflow/core/framework/local_rendezvous.cc:422] Local rendezvous recv item cancelled. Key hash: 18157025256602548069\n",
      "2025-06-09 13:23:25.120125: I tensorflow/core/framework/local_rendezvous.cc:422] Local rendezvous recv item cancelled. Key hash: 7504815338277858003\n",
      "2025-06-09 13:23:25.120132: I tensorflow/core/framework/local_rendezvous.cc:422] Local rendezvous recv item cancelled. Key hash: 8571531358079994845\n",
      "2025-06-09 13:23:25.120136: I tensorflow/core/framework/local_rendezvous.cc:422] Local rendezvous recv item cancelled. Key hash: 7252949870604148205\n",
      "2025-06-09 13:23:25.120139: I tensorflow/core/framework/local_rendezvous.cc:422] Local rendezvous recv item cancelled. Key hash: 17594917853368155715\n",
      "2025-06-09 13:23:25.120147: I tensorflow/core/framework/local_rendezvous.cc:422] Local rendezvous recv item cancelled. Key hash: 4464310331644997555\n",
      "2025-06-09 13:23:25.120155: I tensorflow/core/framework/local_rendezvous.cc:422] Local rendezvous recv item cancelled. Key hash: 16285674403355951032\n",
      "2025-06-09 13:23:25.120158: I tensorflow/core/framework/local_rendezvous.cc:422] Local rendezvous recv item cancelled. Key hash: 643988392482176096\n",
      "2025-06-09 13:23:25.120161: I tensorflow/core/framework/local_rendezvous.cc:422] Local rendezvous recv item cancelled. Key hash: 9218567080647906154\n",
      "2025-06-09 13:23:25.120164: I tensorflow/core/framework/local_rendezvous.cc:422] Local rendezvous recv item cancelled. Key hash: 8070410791143392048\n",
      "2025-06-09 13:23:25.120167: I tensorflow/core/framework/local_rendezvous.cc:422] Local rendezvous recv item cancelled. Key hash: 11684750736550131650\n",
      "2025-06-09 13:23:25.120170: I tensorflow/core/framework/local_rendezvous.cc:422] Local rendezvous recv item cancelled. Key hash: 5326962178744273090\n",
      "2025-06-09 13:23:25.120173: I tensorflow/core/framework/local_rendezvous.cc:422] Local rendezvous recv item cancelled. Key hash: 11385054372013497162\n",
      "2025-06-09 13:23:25.120176: I tensorflow/core/framework/local_rendezvous.cc:422] Local rendezvous recv item cancelled. Key hash: 7381594762716830756\n",
      "2025-06-09 13:23:25.120185: I tensorflow/core/framework/local_rendezvous.cc:422] Local rendezvous recv item cancelled. Key hash: 15591809205591026986\n",
      "2025-06-09 13:23:25.120188: I tensorflow/core/framework/local_rendezvous.cc:422] Local rendezvous recv item cancelled. Key hash: 5019898821801017176\n"
     ]
    },
    {
     "name": "stdout",
     "output_type": "stream",
     "text": [
      "\u001b[1m553/553\u001b[0m \u001b[32m━━━━━━━━━━━━━━━━━━━━\u001b[0m\u001b[37m\u001b[0m \u001b[1m166s\u001b[0m 287ms/step - accuracy: 0.2682 - loss: 2.1111 - val_accuracy: 0.0683 - val_loss: 1.9216\n",
      "Epoch 8/10\n",
      "\u001b[1m199/553\u001b[0m \u001b[32m━━━━━━━\u001b[0m\u001b[37m━━━━━━━━━━━━━\u001b[0m \u001b[1m1:50\u001b[0m 311ms/step - accuracy: 0.2728 - loss: 2.0942"
     ]
    },
    {
     "name": "stderr",
     "output_type": "stream",
     "text": [
      "2025-06-09 13:24:41.485415: I tensorflow/core/kernels/data/shuffle_dataset_op.cc:450] ShuffleDatasetV3:66: Filling up shuffle buffer (this may take a while): 487 of 1000\n"
     ]
    },
    {
     "name": "stdout",
     "output_type": "stream",
     "text": [
      "\u001b[1m201/553\u001b[0m \u001b[32m━━━━━━━\u001b[0m\u001b[37m━━━━━━━━━━━━━\u001b[0m \u001b[1m2:01\u001b[0m 344ms/step - accuracy: 0.2725 - loss: 2.0938"
     ]
    },
    {
     "name": "stderr",
     "output_type": "stream",
     "text": [
      "2025-06-09 13:24:41.882813: I tensorflow/core/kernels/data/shuffle_dataset_op.cc:480] Shuffle buffer filled.\n"
     ]
    },
    {
     "name": "stdout",
     "output_type": "stream",
     "text": [
      "\u001b[1m244/553\u001b[0m \u001b[32m━━━━━━━━\u001b[0m\u001b[37m━━━━━━━━━━━━\u001b[0m \u001b[1m1:32\u001b[0m 300ms/step - accuracy: 0.2660 - loss: 2.0839"
     ]
    },
    {
     "name": "stderr",
     "output_type": "stream",
     "text": [
      "2025-06-09 13:24:52.217543: I tensorflow/core/kernels/data/shuffle_dataset_op.cc:450] ShuffleDatasetV3:60: Filling up shuffle buffer (this may take a while): 535 of 1000\n"
     ]
    },
    {
     "name": "stdout",
     "output_type": "stream",
     "text": [
      "\u001b[1m247/553\u001b[0m \u001b[32m━━━━━━━━\u001b[0m\u001b[37m━━━━━━━━━━━━\u001b[0m \u001b[1m1:38\u001b[0m 323ms/step - accuracy: 0.2657 - loss: 2.0833"
     ]
    },
    {
     "name": "stderr",
     "output_type": "stream",
     "text": [
      "2025-06-09 13:24:52.476563: I tensorflow/core/kernels/data/shuffle_dataset_op.cc:480] Shuffle buffer filled.\n"
     ]
    },
    {
     "name": "stdout",
     "output_type": "stream",
     "text": [
      "\u001b[1m552/553\u001b[0m \u001b[32m━━━━━━━━━━━━━━━━━━━\u001b[0m\u001b[37m━\u001b[0m \u001b[1m0s\u001b[0m 299ms/step - accuracy: 0.2666 - loss: 2.0892"
     ]
    },
    {
     "name": "stderr",
     "output_type": "stream",
     "text": [
      "2025-06-09 13:26:17.990300: W tensorflow/core/framework/local_rendezvous.cc:404] Local rendezvous is aborting with status: OUT_OF_RANGE: End of sequence\n",
      "\t [[{{node IteratorGetNext}}]]\n",
      "2025-06-09 13:26:17.990341: W tensorflow/core/framework/local_rendezvous.cc:404] Local rendezvous is aborting with status: OUT_OF_RANGE: End of sequence\n",
      "\t [[{{node IteratorGetNext}}]]\n",
      "\t [[StatefulPartitionedCall/adam/Add_2/_22]]\n",
      "2025-06-09 13:26:17.990356: I tensorflow/core/framework/local_rendezvous.cc:422] Local rendezvous recv item cancelled. Key hash: 4081508238768780211\n",
      "2025-06-09 13:26:17.990364: I tensorflow/core/framework/local_rendezvous.cc:422] Local rendezvous recv item cancelled. Key hash: 16285674403355951032\n",
      "2025-06-09 13:26:17.990372: I tensorflow/core/framework/local_rendezvous.cc:422] Local rendezvous recv item cancelled. Key hash: 6744818974853584469\n",
      "2025-06-09 13:26:17.990378: I tensorflow/core/framework/local_rendezvous.cc:422] Local rendezvous recv item cancelled. Key hash: 9218567080647906154\n",
      "2025-06-09 13:26:17.990382: I tensorflow/core/framework/local_rendezvous.cc:422] Local rendezvous recv item cancelled. Key hash: 645114054710323013\n",
      "2025-06-09 13:26:17.990388: I tensorflow/core/framework/local_rendezvous.cc:422] Local rendezvous recv item cancelled. Key hash: 15533628806704469064\n",
      "2025-06-09 13:26:17.990394: I tensorflow/core/framework/local_rendezvous.cc:422] Local rendezvous recv item cancelled. Key hash: 18157025256602548069\n",
      "2025-06-09 13:26:17.990400: I tensorflow/core/framework/local_rendezvous.cc:422] Local rendezvous recv item cancelled. Key hash: 8070410791143392048\n",
      "2025-06-09 13:26:17.990407: I tensorflow/core/framework/local_rendezvous.cc:422] Local rendezvous recv item cancelled. Key hash: 11684750736550131650\n",
      "2025-06-09 13:26:17.990412: I tensorflow/core/framework/local_rendezvous.cc:422] Local rendezvous recv item cancelled. Key hash: 7504815338277858003\n",
      "2025-06-09 13:26:17.990419: I tensorflow/core/framework/local_rendezvous.cc:422] Local rendezvous recv item cancelled. Key hash: 5326962178744273090\n",
      "2025-06-09 13:26:17.990426: I tensorflow/core/framework/local_rendezvous.cc:422] Local rendezvous recv item cancelled. Key hash: 11385054372013497162\n",
      "2025-06-09 13:26:17.990431: I tensorflow/core/framework/local_rendezvous.cc:422] Local rendezvous recv item cancelled. Key hash: 7381594762716830756\n",
      "2025-06-09 13:26:17.990436: I tensorflow/core/framework/local_rendezvous.cc:422] Local rendezvous recv item cancelled. Key hash: 15591809205591026986\n",
      "2025-06-09 13:26:17.990440: I tensorflow/core/framework/local_rendezvous.cc:422] Local rendezvous recv item cancelled. Key hash: 5019898821801017176\n",
      "2025-06-09 13:26:17.990445: I tensorflow/core/framework/local_rendezvous.cc:422] Local rendezvous recv item cancelled. Key hash: 8571531358079994845\n",
      "2025-06-09 13:26:17.990450: I tensorflow/core/framework/local_rendezvous.cc:422] Local rendezvous recv item cancelled. Key hash: 7252949870604148205\n",
      "2025-06-09 13:26:17.990454: I tensorflow/core/framework/local_rendezvous.cc:422] Local rendezvous recv item cancelled. Key hash: 17594917853368155715\n",
      "2025-06-09 13:26:17.990465: I tensorflow/core/framework/local_rendezvous.cc:422] Local rendezvous recv item cancelled. Key hash: 4464310331644997555\n"
     ]
    },
    {
     "name": "stdout",
     "output_type": "stream",
     "text": [
      "\u001b[1m553/553\u001b[0m \u001b[32m━━━━━━━━━━━━━━━━━━━━\u001b[0m\u001b[37m\u001b[0m \u001b[1m173s\u001b[0m 300ms/step - accuracy: 0.2666 - loss: 2.0893 - val_accuracy: 0.0892 - val_loss: 1.9533\n",
      "Epoch 9/10\n",
      "\u001b[1m199/553\u001b[0m \u001b[32m━━━━━━━\u001b[0m\u001b[37m━━━━━━━━━━━━━\u001b[0m \u001b[1m1:57\u001b[0m 333ms/step - accuracy: 0.2661 - loss: 2.1178"
     ]
    },
    {
     "name": "stderr",
     "output_type": "stream",
     "text": [
      "2025-06-09 13:27:38.636170: I tensorflow/core/kernels/data/shuffle_dataset_op.cc:450] ShuffleDatasetV3:66: Filling up shuffle buffer (this may take a while): 396 of 1000\n"
     ]
    },
    {
     "name": "stdout",
     "output_type": "stream",
     "text": [
      "\u001b[1m202/553\u001b[0m \u001b[32m━━━━━━━\u001b[0m\u001b[37m━━━━━━━━━━━━━\u001b[0m \u001b[1m2:09\u001b[0m 368ms/step - accuracy: 0.2665 - loss: 2.1172"
     ]
    },
    {
     "name": "stderr",
     "output_type": "stream",
     "text": [
      "2025-06-09 13:27:40.167072: I tensorflow/core/kernels/data/shuffle_dataset_op.cc:480] Shuffle buffer filled.\n"
     ]
    },
    {
     "name": "stdout",
     "output_type": "stream",
     "text": [
      "\u001b[1m244/553\u001b[0m \u001b[32m━━━━━━━━\u001b[0m\u001b[37m━━━━━━━━━━━━\u001b[0m \u001b[1m1:38\u001b[0m 320ms/step - accuracy: 0.2701 - loss: 2.1052"
     ]
    },
    {
     "name": "stderr",
     "output_type": "stream",
     "text": [
      "2025-06-09 13:27:50.459398: I tensorflow/core/kernels/data/shuffle_dataset_op.cc:450] ShuffleDatasetV3:60: Filling up shuffle buffer (this may take a while): 441 of 1000\n"
     ]
    },
    {
     "name": "stdout",
     "output_type": "stream",
     "text": [
      "\u001b[1m245/553\u001b[0m \u001b[32m━━━━━━━━\u001b[0m\u001b[37m━━━━━━━━━━━━\u001b[0m \u001b[1m1:48\u001b[0m 352ms/step - accuracy: 0.2701 - loss: 2.1050"
     ]
    },
    {
     "name": "stderr",
     "output_type": "stream",
     "text": [
      "2025-06-09 13:27:52.299753: I tensorflow/core/kernels/data/shuffle_dataset_op.cc:480] Shuffle buffer filled.\n"
     ]
    },
    {
     "name": "stdout",
     "output_type": "stream",
     "text": [
      "\u001b[1m552/553\u001b[0m \u001b[32m━━━━━━━━━━━━━━━━━━━\u001b[0m\u001b[37m━\u001b[0m \u001b[1m0s\u001b[0m 305ms/step - accuracy: 0.2924 - loss: 2.0909"
     ]
    },
    {
     "name": "stderr",
     "output_type": "stream",
     "text": [
      "2025-06-09 13:29:14.519824: W tensorflow/core/framework/local_rendezvous.cc:404] Local rendezvous is aborting with status: OUT_OF_RANGE: End of sequence\n",
      "\t [[{{node IteratorGetNext}}]]\n",
      "2025-06-09 13:29:14.519840: W tensorflow/core/framework/local_rendezvous.cc:404] Local rendezvous is aborting with status: OUT_OF_RANGE: End of sequence\n",
      "\t [[{{node IteratorGetNext}}]]\n",
      "\t [[StatefulPartitionedCall/adam/Cast_1/_3]]\n",
      "2025-06-09 13:29:14.519849: I tensorflow/core/framework/local_rendezvous.cc:422] Local rendezvous recv item cancelled. Key hash: 16285674403355951032\n",
      "2025-06-09 13:29:14.519855: I tensorflow/core/framework/local_rendezvous.cc:422] Local rendezvous recv item cancelled. Key hash: 4081508238768780211\n",
      "2025-06-09 13:29:14.519860: I tensorflow/core/framework/local_rendezvous.cc:422] Local rendezvous recv item cancelled. Key hash: 6744818974853584469\n",
      "2025-06-09 13:29:14.519866: I tensorflow/core/framework/local_rendezvous.cc:422] Local rendezvous recv item cancelled. Key hash: 643988392482176096\n",
      "2025-06-09 13:29:14.519869: I tensorflow/core/framework/local_rendezvous.cc:422] Local rendezvous recv item cancelled. Key hash: 645114054710323013\n",
      "2025-06-09 13:29:14.519874: I tensorflow/core/framework/local_rendezvous.cc:422] Local rendezvous recv item cancelled. Key hash: 18157025256602548069\n",
      "2025-06-09 13:29:14.519879: I tensorflow/core/framework/local_rendezvous.cc:422] Local rendezvous recv item cancelled. Key hash: 7504815338277858003\n",
      "2025-06-09 13:29:14.519884: I tensorflow/core/framework/local_rendezvous.cc:422] Local rendezvous recv item cancelled. Key hash: 9218567080647906154\n",
      "2025-06-09 13:29:14.519896: I tensorflow/core/framework/local_rendezvous.cc:422] Local rendezvous recv item cancelled. Key hash: 15533628806704469064\n",
      "2025-06-09 13:29:14.519899: I tensorflow/core/framework/local_rendezvous.cc:422] Local rendezvous recv item cancelled. Key hash: 8070410791143392048\n",
      "2025-06-09 13:29:14.519902: I tensorflow/core/framework/local_rendezvous.cc:422] Local rendezvous recv item cancelled. Key hash: 11684750736550131650\n",
      "2025-06-09 13:29:14.519906: I tensorflow/core/framework/local_rendezvous.cc:422] Local rendezvous recv item cancelled. Key hash: 5326962178744273090\n",
      "2025-06-09 13:29:14.519910: I tensorflow/core/framework/local_rendezvous.cc:422] Local rendezvous recv item cancelled. Key hash: 11385054372013497162\n",
      "2025-06-09 13:29:14.519915: I tensorflow/core/framework/local_rendezvous.cc:422] Local rendezvous recv item cancelled. Key hash: 7381594762716830756\n",
      "2025-06-09 13:29:14.519918: I tensorflow/core/framework/local_rendezvous.cc:422] Local rendezvous recv item cancelled. Key hash: 15591809205591026986\n",
      "2025-06-09 13:29:14.519923: I tensorflow/core/framework/local_rendezvous.cc:422] Local rendezvous recv item cancelled. Key hash: 5019898821801017176\n",
      "2025-06-09 13:29:14.519932: I tensorflow/core/framework/local_rendezvous.cc:422] Local rendezvous recv item cancelled. Key hash: 8571531358079994845\n",
      "2025-06-09 13:29:14.519938: I tensorflow/core/framework/local_rendezvous.cc:422] Local rendezvous recv item cancelled. Key hash: 7252949870604148205\n",
      "2025-06-09 13:29:14.519942: I tensorflow/core/framework/local_rendezvous.cc:422] Local rendezvous recv item cancelled. Key hash: 17594917853368155715\n",
      "2025-06-09 13:29:14.519956: I tensorflow/core/framework/local_rendezvous.cc:422] Local rendezvous recv item cancelled. Key hash: 4464310331644997555\n"
     ]
    },
    {
     "name": "stdout",
     "output_type": "stream",
     "text": [
      "\u001b[1m553/553\u001b[0m \u001b[32m━━━━━━━━━━━━━━━━━━━━\u001b[0m\u001b[37m\u001b[0m \u001b[1m177s\u001b[0m 306ms/step - accuracy: 0.2926 - loss: 2.0910 - val_accuracy: 0.0892 - val_loss: 1.9721\n",
      "Epoch 10/10\n",
      "\u001b[1m199/553\u001b[0m \u001b[32m━━━━━━━\u001b[0m\u001b[37m━━━━━━━━━━━━━\u001b[0m \u001b[1m1:47\u001b[0m 305ms/step - accuracy: 0.2860 - loss: 2.0755"
     ]
    },
    {
     "name": "stderr",
     "output_type": "stream",
     "text": [
      "2025-06-09 13:30:29.964650: I tensorflow/core/kernels/data/shuffle_dataset_op.cc:450] ShuffleDatasetV3:66: Filling up shuffle buffer (this may take a while): 491 of 1000\n"
     ]
    },
    {
     "name": "stdout",
     "output_type": "stream",
     "text": [
      "\u001b[1m201/553\u001b[0m \u001b[32m━━━━━━━\u001b[0m\u001b[37m━━━━━━━━━━━━━\u001b[0m \u001b[1m1:59\u001b[0m 339ms/step - accuracy: 0.2861 - loss: 2.0754"
     ]
    },
    {
     "name": "stderr",
     "output_type": "stream",
     "text": [
      "2025-06-09 13:30:30.346633: I tensorflow/core/kernels/data/shuffle_dataset_op.cc:480] Shuffle buffer filled.\n"
     ]
    },
    {
     "name": "stdout",
     "output_type": "stream",
     "text": [
      "\u001b[1m552/553\u001b[0m \u001b[32m━━━━━━━━━━━━━━━━━━━\u001b[0m\u001b[37m━\u001b[0m \u001b[1m0s\u001b[0m 287ms/step - accuracy: 0.2959 - loss: 2.0789"
     ]
    },
    {
     "name": "stderr",
     "output_type": "stream",
     "text": [
      "2025-06-09 13:32:01.171642: W tensorflow/core/framework/local_rendezvous.cc:404] Local rendezvous is aborting with status: OUT_OF_RANGE: End of sequence\n",
      "\t [[{{node IteratorGetNext}}]]\n",
      "2025-06-09 13:32:01.171673: W tensorflow/core/framework/local_rendezvous.cc:404] Local rendezvous is aborting with status: OUT_OF_RANGE: End of sequence\n",
      "\t [[{{node IteratorGetNext}}]]\n",
      "\t [[StatefulPartitionedCall/adam/Add_8/ReadVariableOp/_1]]\n",
      "2025-06-09 13:32:01.171685: I tensorflow/core/framework/local_rendezvous.cc:422] Local rendezvous recv item cancelled. Key hash: 16285674403355951032\n",
      "2025-06-09 13:32:01.171699: I tensorflow/core/framework/local_rendezvous.cc:422] Local rendezvous recv item cancelled. Key hash: 4081508238768780211\n",
      "2025-06-09 13:32:01.171707: I tensorflow/core/framework/local_rendezvous.cc:422] Local rendezvous recv item cancelled. Key hash: 643988392482176096\n",
      "2025-06-09 13:32:01.171713: I tensorflow/core/framework/local_rendezvous.cc:422] Local rendezvous recv item cancelled. Key hash: 6744818974853584469\n",
      "2025-06-09 13:32:01.171721: I tensorflow/core/framework/local_rendezvous.cc:422] Local rendezvous recv item cancelled. Key hash: 9218567080647906154\n",
      "2025-06-09 13:32:01.171730: I tensorflow/core/framework/local_rendezvous.cc:422] Local rendezvous recv item cancelled. Key hash: 645114054710323013\n",
      "2025-06-09 13:32:01.171737: I tensorflow/core/framework/local_rendezvous.cc:422] Local rendezvous recv item cancelled. Key hash: 18157025256602548069\n",
      "2025-06-09 13:32:01.171744: I tensorflow/core/framework/local_rendezvous.cc:422] Local rendezvous recv item cancelled. Key hash: 7504815338277858003\n",
      "2025-06-09 13:32:01.171751: I tensorflow/core/framework/local_rendezvous.cc:422] Local rendezvous recv item cancelled. Key hash: 8070410791143392048\n",
      "2025-06-09 13:32:01.171758: I tensorflow/core/framework/local_rendezvous.cc:422] Local rendezvous recv item cancelled. Key hash: 11684750736550131650\n",
      "2025-06-09 13:32:01.171763: I tensorflow/core/framework/local_rendezvous.cc:422] Local rendezvous recv item cancelled. Key hash: 8571531358079994845\n",
      "2025-06-09 13:32:01.171769: I tensorflow/core/framework/local_rendezvous.cc:422] Local rendezvous recv item cancelled. Key hash: 5326962178744273090\n",
      "2025-06-09 13:32:01.171775: I tensorflow/core/framework/local_rendezvous.cc:422] Local rendezvous recv item cancelled. Key hash: 7252949870604148205\n",
      "2025-06-09 13:32:01.171782: I tensorflow/core/framework/local_rendezvous.cc:422] Local rendezvous recv item cancelled. Key hash: 17594917853368155715\n",
      "2025-06-09 13:32:01.171788: I tensorflow/core/framework/local_rendezvous.cc:422] Local rendezvous recv item cancelled. Key hash: 11385054372013497162\n",
      "2025-06-09 13:32:01.171802: I tensorflow/core/framework/local_rendezvous.cc:422] Local rendezvous recv item cancelled. Key hash: 7381594762716830756\n",
      "2025-06-09 13:32:01.171810: I tensorflow/core/framework/local_rendezvous.cc:422] Local rendezvous recv item cancelled. Key hash: 4464310331644997555\n",
      "2025-06-09 13:32:01.171818: I tensorflow/core/framework/local_rendezvous.cc:422] Local rendezvous recv item cancelled. Key hash: 15591809205591026986\n",
      "2025-06-09 13:32:01.171823: I tensorflow/core/framework/local_rendezvous.cc:422] Local rendezvous recv item cancelled. Key hash: 5019898821801017176\n"
     ]
    },
    {
     "name": "stdout",
     "output_type": "stream",
     "text": [
      "\u001b[1m553/553\u001b[0m \u001b[32m━━━━━━━━━━━━━━━━━━━━\u001b[0m\u001b[37m\u001b[0m \u001b[1m167s\u001b[0m 288ms/step - accuracy: 0.2960 - loss: 2.0790 - val_accuracy: 0.0892 - val_loss: 1.9962\n"
     ]
    },
    {
     "data": {
      "text/plain": [
       "<keras.src.callbacks.history.History at 0x35bca5570>"
      ]
     },
     "execution_count": 18,
     "metadata": {},
     "output_type": "execute_result"
    }
   ],
   "source": [
    "model.fit(\n",
    "    balanced_train_ds,\n",
    "    validation_data=val_ds,\n",
    "    epochs=10,\n",
    "    class_weight=class_weight_dict  # Use the converted class weights\n",
    ")"
   ]
  },
  {
   "cell_type": "code",
   "execution_count": 19,
   "id": "7e2181ef-68ef-48d6-8634-49f47fa7f4f0",
   "metadata": {},
   "outputs": [
    {
     "name": "stdout",
     "output_type": "stream",
     "text": [
      "\u001b[1m29/29\u001b[0m \u001b[32m━━━━━━━━━━━━━━━━━━━━\u001b[0m\u001b[37m\u001b[0m \u001b[1m0s\u001b[0m 15ms/step - accuracy: 0.0833 - loss: 2.0060\n",
      "Validation accuracy: 0.09\n"
     ]
    }
   ],
   "source": [
    "#Evaluate Model on Validation Set\n",
    "val_loss, val_acc = model.evaluate(val_ds)\n",
    "print(f\"Validation accuracy: {val_acc:.2f}\")"
   ]
  },
  {
   "cell_type": "code",
   "execution_count": null,
   "id": "2d13586c-4f73-458d-a565-9028e2ba4553",
   "metadata": {},
   "outputs": [],
   "source": []
  }
 ],
 "metadata": {
  "kernelspec": {
   "display_name": "Python 3 (ipykernel)",
   "language": "python",
   "name": "python3"
  },
  "language_info": {
   "codemirror_mode": {
    "name": "ipython",
    "version": 3
   },
   "file_extension": ".py",
   "mimetype": "text/x-python",
   "name": "python",
   "nbconvert_exporter": "python",
   "pygments_lexer": "ipython3",
   "version": "3.10.17"
  }
 },
 "nbformat": 4,
 "nbformat_minor": 5
}
